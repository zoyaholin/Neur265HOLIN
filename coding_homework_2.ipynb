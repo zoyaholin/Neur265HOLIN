{
  "nbformat": 4,
  "nbformat_minor": 0,
  "metadata": {
    "colab": {
      "provenance": [],
      "include_colab_link": true
    },
    "kernelspec": {
      "name": "python3",
      "display_name": "Python 3"
    },
    "language_info": {
      "name": "python"
    }
  },
  "cells": [
    {
      "cell_type": "markdown",
      "metadata": {
        "id": "view-in-github",
        "colab_type": "text"
      },
      "source": [
        "<a href=\"https://colab.research.google.com/github/zoyaholin/Neur265HOLIN/blob/main/coding_homework_2.ipynb\" target=\"_parent\"><img src=\"https://colab.research.google.com/assets/colab-badge.svg\" alt=\"Open In Colab\"/></a>"
      ]
    },
    {
      "cell_type": "markdown",
      "source": [
        "# Creating title and introduction\n",
        "## Zoya Holin\n",
        "*Intro to Neural Data Analysis*\n",
        "\n",
        "**Due February 24, 2023**"
      ],
      "metadata": {
        "id": "4rdj-8_jP6O-"
      }
    },
    {
      "cell_type": "markdown",
      "source": [],
      "metadata": {
        "id": "lroxJR5wSY3K"
      }
    },
    {
      "cell_type": "code",
      "source": [
        "# importing packages\n",
        "import numpy as np\n",
        "import matplotlib.pyplot as plt\n",
        "import statistics as st\n"
      ],
      "metadata": {
        "id": "h1qlPqyzSzUT"
      },
      "execution_count": 47,
      "outputs": []
    },
    {
      "cell_type": "code",
      "source": [
        "#Importing first set of data\n",
        "url1=('https://raw.githubusercontent.com/zoyaholin/Neur265HOLIN/main/vrest_1.csv')\n",
        "vrest_1=np.loadtxt(url1)\n",
        "\n",
        "\n",
        "\n"
      ],
      "metadata": {
        "id": "bWk496_mU43L"
      },
      "execution_count": 48,
      "outputs": []
    },
    {
      "cell_type": "code",
      "source": [
        "#Importing second set of data\n",
        "url2=('https://raw.githubusercontent.com/zoyaholin/Neur265HOLIN/main/vrest_2.csv')\n",
        "vrest_2=np.loadtxt(url2)\n"
      ],
      "metadata": {
        "id": "P_vw9U-PaoJg"
      },
      "execution_count": 49,
      "outputs": []
    },
    {
      "cell_type": "code",
      "source": [
        "#Making matrix with data sets \n",
        "v_rest=np.array([vrest_1, vrest_2])\n"
      ],
      "metadata": {
        "id": "gIsq35KobWtO"
      },
      "execution_count": 50,
      "outputs": []
    },
    {
      "cell_type": "code",
      "source": [
        "#Putting data into rows and columns\n",
        "print (v_rest.shape)\n",
        "print (v_rest)"
      ],
      "metadata": {
        "id": "jH3Gnj7ojdlO",
        "colab": {
          "base_uri": "https://localhost:8080/"
        },
        "outputId": "36d45584-ab20-4add-cdf7-b699c79483bc"
      },
      "execution_count": 51,
      "outputs": [
        {
          "output_type": "stream",
          "name": "stdout",
          "text": [
            "(2, 13)\n",
            "[[-67.41802639 -66.25768365 -72.73124619 -60.04908409 -74.77522812\n",
            "  -64.55338478 -72.00742722 -79.22941531 -60.18907814 -67.79476166\n",
            "  -71.66959991 -73.20587852 -75.2606269 ]\n",
            " [-64.22239923 -69.23045635 -63.91764832 -66.30463938 -64.4995985\n",
            "  -69.70079613 -80.0265496  -60.66272381 -77.83467513 -70.30409102\n",
            "  -61.91352539 -60.67592324 -55.73691177]]\n"
          ]
        }
      ]
    },
    {
      "cell_type": "code",
      "source": [
        "#Printing size of v_rest \n",
        "v_rest=np.array([vrest_1,vrest_2])\n",
        "print(v_rest.size)"
      ],
      "metadata": {
        "colab": {
          "base_uri": "https://localhost:8080/"
        },
        "id": "4hV3goCTuK9o",
        "outputId": "b0e942a8-37f6-4410-f8c9-a1593188a7e7"
      },
      "execution_count": 52,
      "outputs": [
        {
          "output_type": "stream",
          "name": "stdout",
          "text": [
            "26\n"
          ]
        }
      ]
    },
    {
      "cell_type": "code",
      "source": [
        "#Returning first row of v_rest \n",
        "v_rest=np.array([vrest_1, vrest_2])\n",
        "v_rest[0]"
      ],
      "metadata": {
        "colab": {
          "base_uri": "https://localhost:8080/"
        },
        "id": "9fnb9wTevAb0",
        "outputId": "c2d5e238-c982-450e-e922-dc1581ad3b0a"
      },
      "execution_count": 53,
      "outputs": [
        {
          "output_type": "execute_result",
          "data": {
            "text/plain": [
              "array([-67.41802639, -66.25768365, -72.73124619, -60.04908409,\n",
              "       -74.77522812, -64.55338478, -72.00742722, -79.22941531,\n",
              "       -60.18907814, -67.79476166, -71.66959991, -73.20587852,\n",
              "       -75.2606269 ])"
            ]
          },
          "metadata": {},
          "execution_count": 53
        }
      ]
    },
    {
      "cell_type": "code",
      "source": [
        "#Returning sum of values in the third column \n",
        "np.sum(v_rest[:,2])"
      ],
      "metadata": {
        "colab": {
          "base_uri": "https://localhost:8080/"
        },
        "id": "7FZPG2pZxZ6u",
        "outputId": "1fcdb3e2-a171-47e3-af29-947766c619b9"
      },
      "execution_count": 54,
      "outputs": [
        {
          "output_type": "execute_result",
          "data": {
            "text/plain": [
              "-136.64889451"
            ]
          },
          "metadata": {},
          "execution_count": 54
        }
      ]
    },
    {
      "cell_type": "code",
      "source": [
        "#Returning second-to-last value in the second row \n",
        "v_rest[-1,2]"
      ],
      "metadata": {
        "colab": {
          "base_uri": "https://localhost:8080/"
        },
        "id": "N4CBiarmxoMr",
        "outputId": "20955ec3-c66b-4dfe-dec6-306fbd6a088f"
      },
      "execution_count": 55,
      "outputs": [
        {
          "output_type": "execute_result",
          "data": {
            "text/plain": [
              "-63.91764832"
            ]
          },
          "metadata": {},
          "execution_count": 55
        }
      ]
    },
    {
      "cell_type": "code",
      "source": [
        "#Creating histogram of values in first row and labelling axes \n",
        "from matplotlib import pyplot as pyplot\n",
        "import numpy as np\n",
        "a = v_rest\n",
        "plt.hist(v_rest[0,:])\n",
        "plt.ylabel('Frequency')\n",
        "plt.xlabel('Resting Membrane Potential')\n"
      ],
      "metadata": {
        "colab": {
          "base_uri": "https://localhost:8080/",
          "height": 297
        },
        "id": "lhtsYdCBx7j9",
        "outputId": "de73d977-84a4-44ca-fbab-79376eddc26d"
      },
      "execution_count": 65,
      "outputs": [
        {
          "output_type": "execute_result",
          "data": {
            "text/plain": [
              "Text(0.5, 0, 'Resting Membrane Potential')"
            ]
          },
          "metadata": {},
          "execution_count": 65
        },
        {
          "output_type": "display_data",
          "data": {
            "text/plain": [
              "<Figure size 432x288 with 1 Axes>"
            ],
            "image/png": "[encoded data removed]"
          },
          "metadata": {
            "needs_background": "light"
          }
        }
      ]
    },
    {
      "cell_type": "code",
      "source": [
        "#Assigning means from first row\n",
        "v_rest_mean1= st.mean(v_rest[0,:])\n",
        "print (v_rest_mean1)\n",
        "\n",
        "v_rest_mean2= st.mean(v_rest[1,:])\n",
        "print (v_rest_mean2)"
      ],
      "metadata": {
        "colab": {
          "base_uri": "https://localhost:8080/"
        },
        "id": "UUb_T-O2zF5K",
        "outputId": "0a4da416-f44b-4852-bb28-4f22e0db1ba6"
      },
      "execution_count": 67,
      "outputs": [
        {
          "output_type": "stream",
          "name": "stdout",
          "text": [
            "-69.62626468307693\n",
            "-66.54076445153846\n"
          ]
        }
      ]
    },
    {
      "cell_type": "markdown",
      "source": [
        "**Analyzing results from histogram**\n",
        "\n",
        "v_rest_mean1 gives a value of -69.7, and v_rest_mean2 gives a value of -66.5. This means that the more negative the resting membrane potential is the faster it is firing. So the first mean data set on average fires faster than the second mean data set. \n"
      ],
      "metadata": {
        "id": "tByCRcdIzp2Q"
      }
    },
    {
      "cell_type": "code",
      "source": [
        "#Importing scipy package \n",
        "import scipy.stats as stats"
      ],
      "metadata": {
        "id": "Zap6kILE1D8x"
      },
      "execution_count": 68,
      "outputs": []
    },
    {
      "cell_type": "code",
      "source": [
        "#Performing t-test on two rows of v_rest\n",
        "stats.ttest_ind(vrest_1, vrest_2)\n",
        "\n"
      ],
      "metadata": {
        "colab": {
          "base_uri": "https://localhost:8080/"
        },
        "id": "VoOv3WOMzk1Y",
        "outputId": "9ecd2d1e-3d95-4c5a-dfd7-a4561fa9d218"
      },
      "execution_count": 70,
      "outputs": [
        {
          "output_type": "execute_result",
          "data": {
            "text/plain": [
              "Ttest_indResult(statistic=-1.2353188694018347, pvalue=0.22866846463247684)"
            ]
          },
          "metadata": {},
          "execution_count": 70
        }
      ]
    },
    {
      "cell_type": "markdown",
      "source": [
        "**Analyzing results from ttest**\n",
        "\n",
        "The p-value I got was 0.23, which is very high. This means that this is not statistically signiifcant, so the evidence is not strong enough to support the statement that the means are significantly different. \n"
      ],
      "metadata": {
        "id": "Z_6Kultj13_7"
      }
    },
    {
      "cell_type": "markdown",
      "source": [],
      "metadata": {
        "id": "zkfOW8oKR0zW"
      }
    },
    {
      "cell_type": "markdown",
      "source": [
        "# Coding Homework #2\n",
        "\n",
        "**Instructions:**\n",
        "\n",
        "1. Make a *Markdown Cell* that contains the following information:\n",
        "- Your name (small header)\n",
        "- The name of this class (italicized)\n",
        "- The date (bolded)\n",
        "\n",
        "2. Make a *Code Cell* that imports <code>numpy</code> as <code>np</code>, <code>matplotlib.pyplot</code> as <code>plt</code>, <code>statistics</code> as <code>st</code>. [link text](https://)\n",
        "\n",
        "3. Make a *Code Cell* that imports your <code>v_rest1.csv</code> and <code>v_rest2.csv</code> files as <code>numpy</code> arrays called <code>v_rest1</code> and <code>v_rest2</code> respectively. You're used to doing this with the <code>pd.read_csv</code> function for <code>pandas</code>, but can accomplish the same thing using the <code>np.loadtxt</code> function for <code>numpy</code>.\n",
        "\n",
        "4. Make a *Code Cell* that concatenates <code>v_rest1</code> and <code>v_rest2</code> into a matrix with 2 rows and 13 columns named <code>v_rest</code>.\n",
        "\n",
        "5. Make a *Code Cell* that prints the <code>size</code> of <code>v_rest</code>.\n",
        "\n",
        "6. Make a *Code Cell* that returns the first row of <code>v_rest</code>.\n",
        "\n",
        "7. Make a *Code Cell* that returns the sum of the values in the third column of <code>v_rest</code>. You can accomplish this by using <code>v_rest[].sum()</code>, with your index inside of the brackets. As an example, if I wanted to return the sum of the first row of <code>v_rest</code>, I could use <code>v_rest[0].sum()</code> to get my answer.\n",
        "\n",
        "8. Make a *Code Cell* that returns the second-to-last value in the second row of <code>v_rest</code> (use negative indexing for the column value).\n",
        "\n",
        "9. Create a *Code Cell* that makes a histogram of the values in the first row of <code>v_rest</code> (you can do this by using the <code>plt.hist()</code> function). Label your axes.\n",
        "\n",
        "10. Create a *Code Cell* that takes the mean of the values in the first row of <code>v_rest</code>, and assigns the mean to a variable called <code>v_rest_mean_1</code>. Do the same thing for the second row of <code>v_rest</code>, and assign the mean value of the second row to a variable called <code>v_rest_mean_2</code>. You can get the means by using the <code>st.mean()</code> function (remember to put what you want the mean *of* inside the parentheses of the function).\n",
        "\n",
        "11. Create a *Markdown Cell* that describes the difference in means between the two rows. Which one is bigger?\n",
        "\n",
        "12. How can we test whether the difference in means is *meaningful* (statistically significant)? When we're comparing two means, we can use a t-test (assuming the data are normally distributed). To use a t-test on our data, we will first need to import the <code>scipy</code> package. Create a new *Code Cell* that runs the following:\n",
        "\n",
        "<code>\n",
        "import scipy.stats as stats\n",
        "</code>\n",
        "\n",
        "13. Now, we can perform a t-test on the two rows of <code>v_rest</code>. To do this, create a new *Code Cell* that uses the <code>stats.ttest_ind()</code> function - for example:\n",
        "\n",
        "<code>\n",
        "stats.ttest_ind(row1, row2)\n",
        "</code>\n",
        "\n",
        "Replace <code>row1</code> and <code>row2</code> in this case with the first and second rows, respectively, of <code>v_rest</code>.\n",
        "\n",
        "14. Make a *Markdown Cell* that describes the results of your t-test. You should have <code>statistic</code> variable and a <code>pvalue</code> variable. The way to interpret your p-value is as a probability - specifically, the probability that the mean of one distribution could be found in the second distribution. Typically, results are considered to be \"statistically significant\" if the probability is lower than 5% - or 0.05. What is your p-value? Based on this p-value, do you think it is likely that the means are significantly different, or do you think it is likely that they are not?\n",
        "\n",
        "15. Make sure to add at least one line with a <code>#</code> in front of it to each *Code Cell* to describe what each cell does.\n",
        "\n",
        "16. Save a copy of this notebook to your GitHub repo with the title \"coding_homework_2.ipynb\"."
      ],
      "metadata": {
        "id": "CXEcCBSA_prs"
      }
    }
  ]
}