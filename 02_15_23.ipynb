{
  "nbformat": 4,
  "nbformat_minor": 0,
  "metadata": {
    "colab": {
      "provenance": [],
      "include_colab_link": true
    },
    "kernelspec": {
      "name": "python3",
      "display_name": "Python 3"
    },
    "language_info": {
      "name": "python"
    }
  },
  "cells": [
    {
      "cell_type": "markdown",
      "metadata": {
        "id": "view-in-github",
        "colab_type": "text"
      },
      "source": [
        "<a href=\"https://colab.research.google.com/github/zoyaholin/Neur265HOLIN/blob/main/02_15_23.ipynb\" target=\"_parent\"><img src=\"https://colab.research.google.com/assets/colab-badge.svg\" alt=\"Open In Colab\"/></a>"
      ]
    },
    {
      "cell_type": "markdown",
      "source": [
        "# Defining cell types by their electrophysiology - part II"
      ],
      "metadata": {
        "id": "HqNgl-4DLrKl"
      }
    },
    {
      "cell_type": "markdown",
      "source": [
        "## Step 1. Set up our coding environment\n",
        "Whenever we start an analysis in Python, we need to be sure to import the necessary code packages. If you're running this notebook on Colab or Binder, the cells below will install packages into your coding environment -- we are *not* installing anything on your computer.\n",
        "\n",
        "### Install the AllenSDK\n",
        "The Allen Institute has compiled a set of code and tools called a **Software Development Kit** (SDK). These tools will help us import and analyze the cell types data. See [Technical Notes](#technical) at the end of this notebook for more information about working with the AllenSDK.\n",
        "\n",
        "><b>Task</b>: Run the cell below, which will install the allensdk into your coding environment.\n",
        "\n",
        "**Technical notes about installing the allensdk**\n",
        "- If you're running this in Colab, you'll also be prompted to **Restart Runtime** after this is completed. Click the **Restart Runtime** button (nothing will happen), and then you're ready to proceed.\n",
        "- If you receive an error or are running this notebook on your local computer, there are additional instructions on how to install the SDK locally <a href=\"http://alleninstitute.github.io/AllenSDK/install.html\">here</a>."
      ],
      "metadata": {
        "id": "acpuq37dLyR3"
      }
    },
    {
      "cell_type": "code",
      "source": [
        "# This will ensure that the AllenSDK is installed.\n",
        "try:\n",
        "    import allensdk\n",
        "    print('allensdk imported')\n",
        "except ImportError as e:\n",
        "    !pip install allensdk"
      ],
      "metadata": {
        "id": "DBoT_1kKL4Wa"
      },
      "execution_count": null,
      "outputs": []
    },
    {
      "cell_type": "markdown",
      "source": [
        "><b>Task</b>: We also need to make sure that our coding environment has [NumPy](https://numpy.org/), [Pandas](https://pandas.pydata.org/), and [Matplotlib](https://matplotlib.org/) already installed. Run the cell below -- any packages that are missing will be installed for you."
      ],
      "metadata": {
        "id": "uEOjZFnGL6j6"
      }
    },
    {
      "cell_type": "code",
      "source": [
        "# This will ensure that Numpy, Pandas, and Matplotlib are installed.\n",
        "try:\n",
        "    import numpy\n",
        "    print('numpy already installed')\n",
        "except ImportError as e:\n",
        "    !pip install numpy\n",
        "try:\n",
        "    import pandas\n",
        "    print('pandas already installed')\n",
        "except ImportError as e:\n",
        "    !pip install pandas  \n",
        "try:\n",
        "    import matplotlib\n",
        "    print('matplotlib already installed')\n",
        "except ImportError as e:\n",
        "    !pip install matplotlib"
      ],
      "metadata": {
        "id": "wo4fF7LfMJFB"
      },
      "execution_count": null,
      "outputs": []
    },
    {
      "cell_type": "markdown",
      "source": [
        "### Import common packages\n",
        "Below, we'll `import` a common selection of packages that will help us analyze and plot our data. We'll also configure the plotting in our notebook.\n",
        "><b>Task</b>: Import the numpy module nicknamed as <code>np</code>. Add a <code>print</code> message at the end that says \"Packages imported!\" so that you know the code ran."
      ],
      "metadata": {
        "id": "qiBcyttVMMY8"
      }
    },
    {
      "cell_type": "code",
      "source": [
        "# Import our plotting package from matplotlib\n",
        "import matplotlib.pyplot as plt\n",
        "\n",
        "# Specify that all plots will happen inline & in high resolution\n",
        "%matplotlib inline  \n",
        "%config InlineBackend.figure_format = 'retina'\n",
        "\n",
        "# Import pandas for working with databases\n",
        "import pandas as pd\n",
        "\n",
        "# Import numpy below\n",
        "\n",
        "\n",
        "# Add your print() statement below"
      ],
      "metadata": {
        "id": "_y2B0IHGMUYF"
      },
      "execution_count": null,
      "outputs": []
    },
    {
      "cell_type": "markdown",
      "source": [
        "### Import the CellTypesModule from the allensdk\n",
        "With the allensdk installed, we can `import` the **CellTypesCache module**.\n",
        "\n",
        "The CellTypesCache that we're importing provides tools to allow us to get information from the cell types database. We're giving it a **manifest** filename as well. CellTypesCache will create this manifest file, which contains metadata about the cache. If you want, you can look in the cell_types folder in your code directory and take a look at the file."
      ],
      "metadata": {
        "id": "jOWZ19hcMlCV"
      }
    },
    {
      "cell_type": "code",
      "source": [
        "#Import the \"Cell Types Cache\" from the AllenSDK core package\n",
        "from allensdk.core.cell_types_cache import CellTypesCache\n",
        "\n",
        "#Initialize the cache as 'ctc' (cell types cache)\n",
        "ctc = CellTypesCache(manifest_file='cell_types/manifest.json')\n",
        "\n",
        "print('CellTypesCache imported.')"
      ],
      "metadata": {
        "id": "vCdz8Y4QMnvF"
      },
      "execution_count": null,
      "outputs": []
    },
    {
      "cell_type": "markdown",
      "source": [
        "## Step 2. Import data for a single cell, and plot its morphology\n",
        "\n",
        "The Cell Types Database also contains **3D reconstructions** of neuronal morphologies. Here, we'll plot the reconstruction of our cell's morphology.\n",
        "\n",
        "*Note*: It will take several minutes to run the cell below, possibly longer over a slow internet connection.\n",
        "\n",
        "><b>Task</b>: Find the cell specimen ID for the first cell you looked at on the Allen Institute website (hint: it's in the URL), and assign this to <code>cell_id</code> below by replacing the <code>...</code>. Run the cell.\n",
        "\n"
      ],
      "metadata": {
        "id": "nGXGTj-vMqRX"
      }
    },
    {
      "cell_type": "code",
      "source": [
        "# Enter your cell_id below\n",
        "cell_id = \n",
        "\n",
        "# Import necessary toolbox\n",
        "from allensdk.core.swc import Marker\n",
        "\n",
        "# Download and open morphology and marker files\n",
        "morphology = ctc.get_reconstruction(cell_id) \n",
        "markers = ctc.get_reconstruction_markers(cell_id) \n",
        "\n",
        "# Set up our plot\n",
        "fig, axes = plt.subplots(1, 2, sharey=True, sharex=True, figsize=(10,10))\n",
        "axes[0].set_aspect('equal')\n",
        "axes[1].set_aspect('equal')\n",
        "\n",
        "# Make a line drawing of x-y and y-z views\n",
        "for n in morphology.compartment_list:\n",
        "    for c in morphology.children_of(n):\n",
        "        axes[0].plot([n['x'], c['x']], [n['y'], c['y']], color='black')\n",
        "        axes[1].plot([n['z'], c['z']], [n['y'], c['y']], color='black')\n",
        "\n",
        "# cut dendrite markers\n",
        "dm = [ m for m in markers if m['name'] == Marker.CUT_DENDRITE ]\n",
        "axes[0].scatter([m['x'] for m in dm], [m['y'] for m in dm], color='#3333ff')\n",
        "axes[1].scatter([m['z'] for m in dm], [m['y'] for m in dm], color='#3333ff')\n",
        "\n",
        "# no reconstruction markers\n",
        "nm = [ m for m in markers if m['name'] == Marker.NO_RECONSTRUCTION ]\n",
        "axes[0].scatter([m['x'] for m in nm], [m['y'] for m in nm], color='#333333')\n",
        "axes[1].scatter([m['z'] for m in nm], [m['y'] for m in nm], color='#333333')\n",
        "axes[0].set_ylabel('y')\n",
        "axes[0].set_xlabel('x')\n",
        "axes[1].set_xlabel('z')\n",
        "plt.show()"
      ],
      "metadata": {
        "id": "C8SDtSOQMvjF"
      },
      "execution_count": null,
      "outputs": []
    },
    {
      "cell_type": "markdown",
      "source": [
        "## Step 3. Analyze pre-computed features\n",
        "\n",
        "The Cell Types Database contains a set of features that have already been computed, which could serve as good starting points for analysis. We can query the database to get these features. Below, we'll use the Pandas package that we imported above to create a **dataframe** for our data.\n",
        "\n",
        "><b>Task</b>: Run the cell below. It'll take ~10 seconds. It will print a list of all of the feature available, as well as produce a dataframe, which looks something like an excel spreadsheet. You can scroll to the right to see many of the different features available in this dataset."
      ],
      "metadata": {
        "id": "sZ3_oqIBNOiz"
      }
    },
    {
      "cell_type": "code",
      "source": [
        "# Download all electrophysiology features for all cells\n",
        "ephys_features = ctc.get_ephys_features()\n",
        "ef_df = pd.DataFrame(ephys_features).set_index('specimen_id')\n",
        "\n",
        "print('Ephys features available for %d cells:' % len(ef_df))\n",
        "ef_df.head() # Just show the first 5 rows (the head) of our dataframe "
      ],
      "metadata": {
        "id": "Q1yaC4mONTSM"
      },
      "execution_count": null,
      "outputs": []
    },
    {
      "cell_type": "markdown",
      "source": [
        "As you can see in the dataframe above, there are many **pre-computed features** available in this dataset. [Here's a glossary](https://docs.google.com/document/d/1YGLwkMTebwrXd_1E817LFbztMjSTCWh83Mlp3_3ZMEo/edit?usp=sharing), in case you're curious.\n",
        "\n",
        "![](https://github.com/ajuavinett/CellTypesLesson/blob/master/docs/ap_features.png?raw=true)\n",
        "\n",
        "Image from the <a href=\"http://help.brain-map.org/download/attachments/8323525/CellTypes_Ephys_Overview.pdf\">Allen Institute Cell Types Database Technical Whitepaper.</a>\n",
        "<br><br>\n",
        "Let's first look at the speed of the trough, and the ratio between the upstroke and downstroke of the action potential."
      ],
      "metadata": {
        "id": "V2oL_9YxNY0y"
      }
    },
    {
      "cell_type": "markdown",
      "source": [
        "- <b>Action potential fast trough</b>(<code>fast_trough_v_long_square</code>): Minimum value of the membrane potential in the interval lasting 5 ms after the peak.\n",
        "- <b>Upstroke/downstroke ratio</b> (<code>upstroke_downstroke_ratio_long_square</code>): The ratio between the absolute values of the action potential peak upstroke and the action potential peak downstroke."
      ],
      "metadata": {
        "id": "D3KQaGVSNohy"
      }
    },
    {
      "cell_type": "markdown",
      "source": [
        "Below, we'll plot the values of the trough vs. the upstroke-downstroke ratio in a scatterplot.\n",
        "\n",
        "><b>Task</b>: Run the cell below."
      ],
      "metadata": {
        "id": "eXGhaIVZOi6x"
      }
    },
    {
      "cell_type": "code",
      "source": [
        "plt.scatter(ef_df['fast_trough_v_long_square'], \n",
        "            ef_df['upstroke_downstroke_ratio_long_square'])\n",
        "plt.ylabel(\"upstroke-downstroke ratio\")\n",
        "plt.xlabel(\"fast trough depth (mV)\")\n",
        "plt.show()"
      ],
      "metadata": {
        "id": "PcNOGhqcOlkS"
      },
      "execution_count": null,
      "outputs": []
    },
    {
      "cell_type": "markdown",
      "source": [
        "It looks like there may be roughly two clusters in the data above. Maybe they relate to whether the cells are presumably excitatory (spiny) cells or inhibitory (aspiny) cells. Let's query the API and split up the two sets to see.\n",
        "\n",
        "><b>Task:</b> The cell below will dig up the dendrite type of these cells and add that to our dataframe. Then, it'll create our same scatterplot, where each dot is colored by dendrite type. All you need to do is run the cell! Right click to save the image as 'scatterplot.png' once it generates."
      ],
      "metadata": {
        "id": "Guwm0LGIOrS4"
      }
    },
    {
      "cell_type": "code",
      "source": [
        "# Get information about our cells' dendrites\n",
        "cells = ctc.get_cells()\n",
        "full_dataframe = ef_df.join(pd.DataFrame(cells).set_index('id'))\n",
        "\n",
        "# Create a dataframe for spiny cells, and a dataframe for aspiny cells\n",
        "spiny_df = full_dataframe[full_dataframe['dendrite_type'] == 'spiny']\n",
        "aspiny_df = full_dataframe[full_dataframe['dendrite_type'] == 'aspiny']\n",
        "\n",
        "# Create our plot! Calling scatter twice like this will draw both of these on the same plot.\n",
        "plt.scatter(spiny_df['fast_trough_v_long_square'],spiny_df['upstroke_downstroke_ratio_long_square'])\n",
        "plt.scatter(aspiny_df['fast_trough_v_long_square'],aspiny_df['upstroke_downstroke_ratio_long_square'])\n",
        "\n",
        "plt.ylabel('upstroke-downstroke ratio')\n",
        "plt.xlabel('fast trough depth (mV)')\n",
        "plt.legend(['Spiny','Aspiny'])\n",
        "    \n",
        "plt.show()"
      ],
      "metadata": {
        "id": "pjSk1MmNOsZu"
      },
      "execution_count": null,
      "outputs": []
    },
    {
      "cell_type": "markdown",
      "source": [
        "Looks like these two clusters do partially relate to the dendritic type. Cells with spiny dendrites (which are typically excitatory cells) have a big ratio of upstroke:downstroke, and a more shallow trough (less negative). Cells with aspiny dendrites (typically inhibitory cells) are a little bit more varied. But </i>only</i> aspiny cells have a low upstroke:downstroke ratio and a deeper trough (more negative)."
      ],
      "metadata": {
        "id": "wyBpTYIVOv9S"
      }
    },
    {
      "cell_type": "markdown",
      "source": [
        "## Step 4. Compare waveforms\n",
        "Let's take a closer look at the action potentials of these cells to see what these metrics actually mean for the action potential waveform by choosing one of the cells with the highest upstroke:downstroke ratio.\n",
        "\n",
        "><b>Task</b>: Run the cell below. The first line will sort our dataframe so that it's descending (<code>ascending=False</code>) based on upstroke:downstroke ratio. This is an example of a **boolean** in Python. You can change this to say `ascending=True` if you want to sort with *lowest* ratio at the top."
      ],
      "metadata": {
        "id": "1mWOZ2z4OxvP"
      }
    },
    {
      "cell_type": "code",
      "source": [
        "# Sort the dataframe and reassign\n",
        "ef_df_upstroke_sorted = ef_df.sort_values('upstroke_downstroke_ratio_long_square',ascending=False)\n",
        "\n",
        "# Assign one of the top cells in our dataframe (default = 2) and the ratio to different variables\n",
        "specimen_id = ef_df_upstroke_sorted.index[2]\n",
        "ratio = ef_df_upstroke_sorted.iloc[2]['upstroke_downstroke_ratio_long_square']\n",
        "\n",
        "# Print our results so that we can see them\n",
        "print('Specimen ID: ' + str(specimen_id) + ' with upstroke-downstroke ratio: ' + str(ratio))"
      ],
      "metadata": {
        "id": "B1Cbsb2cO2cg"
      },
      "execution_count": null,
      "outputs": []
    },
    {
      "cell_type": "markdown",
      "source": [
        "Now we can take a closer look at the action potential for that cell by grabbing a raw sweep of recording from it, just like we did above.\n",
        "\n",
        "><b>Task:</b> Run the cell below. This may take a minute or so."
      ],
      "metadata": {
        "id": "MlkISIvRP85e"
      }
    },
    {
      "cell_type": "code",
      "source": [
        "# Get the data for our specimen\n",
        "upstroke_data = ctc.get_ephys_data(specimen_id)\n",
        "\n",
        "# Get one sweep for our specimen (I've already handselected a gorgeous one for you, 45)\n",
        "upstroke_sweep = upstroke_data.get_sweep(45) \n",
        "\n",
        "# Get the current & voltage traces\n",
        "current = upstroke_sweep['stimulus'] * 1e12 # in A, converted to pA\n",
        "voltage = upstroke_sweep['response'] * 1e3 # converted to mV!\n",
        "\n",
        "# Get the time stamps for our voltage trace\n",
        "timestamps = (np.arange(0, len(voltage)) * (1.0 / upstroke_sweep['sampling_rate']))\n",
        "\n",
        "print('Sweep obtained')"
      ],
      "metadata": {
        "id": "Fk3cm0fiP_ih"
      },
      "execution_count": null,
      "outputs": []
    },
    {
      "cell_type": "code",
      "source": [],
      "metadata": {
        "id": "y1nhO3tRMRQQ"
      },
      "execution_count": null,
      "outputs": []
    },
    {
      "cell_type": "markdown",
      "source": [
        "And now let's plot our sweep. You may need to change some values in the plotting script to actually zoom in on the action potential, or change the sweep number (set to 45 by default) to one where you can see an action potential.\n",
        "\n",
        "><b>Task</b>: Modify the plotting script below so that you can actually see the shape of the action potential, and then run. "
      ],
      "metadata": {
        "id": "mITmW4F3QCbu"
      }
    },
    {
      "cell_type": "code",
      "source": [
        "fig, axes = plt.subplots(2,1,figsize=(8,6),sharex=True)\n",
        "\n",
        "# axes 0 is our first plot, of the recorded voltage data\n",
        "axes[0].plot(timestamps, voltage, color='black')\n",
        "axes[0].set_ylabel('mV')\n",
        "axes[0].set_title('whole-cell patch recording')\n",
        "\n",
        "\n",
        "#axes 1 is our second plot, of the stimulus trace\n",
        "axes[1].plot(timestamps, current, color='gray')\n",
        "axes[1].set_ylabel('pA')\n",
        "axes[1].set_xlabel('seconds')\n",
        "axes[1].set_title('stimulus')\n",
        "\n",
        "plt.show()"
      ],
      "metadata": {
        "id": "vb8dllnxQHGm"
      },
      "execution_count": null,
      "outputs": []
    },
    {
      "cell_type": "markdown",
      "source": [
        "Let's do the same thing for a cell with a low upstroke ratio and compare. \n",
        "\n",
        "><b>Task:</b> Edit the line several blocks above that assigns the variable <code>ef_df_upstroke_sorted</code>. Where it says <code>ascending=</code>, set it to <code>True</code>, instead of <code>False</code>. Once you do that, re-run that cell and the cells below to re-plot the data for a new cell with a <i>low</i> upstroke-downstroke ratio. Right click to save your image as 'low_upstrokeratio.png' when you're done."
      ],
      "metadata": {
        "id": "ra747a45QHo9"
      }
    },
    {
      "cell_type": "markdown",
      "source": [
        "As you can see, even that one metric, upstroke:downstroke ratio, means the shape of the action potential is dramatically different. The other metric above, size of the trough, is highly correlated with upstroke:downstroke. You can see that by comparing the two cells here. Cells with high upstroke:downstroke tend to have less negative troughs (undershoots) after the action potential."
      ],
      "metadata": {
        "id": "Vitrm8xZQLcw"
      }
    }
  ]
}