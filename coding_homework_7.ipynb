{
  "nbformat": 4,
  "nbformat_minor": 0,
  "metadata": {
    "colab": {
      "provenance": [],
      "include_colab_link": true
    },
    "kernelspec": {
      "name": "python3",
      "display_name": "Python 3"
    },
    "language_info": {
      "name": "python"
    }
  },
  "cells": [
    {
      "cell_type": "markdown",
      "metadata": {
        "id": "view-in-github",
        "colab_type": "text"
      },
      "source": [
        "<a href=\"https://colab.research.google.com/github/zoyaholin/Neur265HOLIN/blob/main/coding_homework_7.ipynb\" target=\"_parent\"><img src=\"https://colab.research.google.com/assets/colab-badge.svg\" alt=\"Open In Colab\"/></a>"
      ]
    },
    {
      "cell_type": "markdown",
      "source": [
        "#Zoya Holin\n",
        "\n",
        "*Intro to Neural Data Analysis*\n",
        "\n",
        "**Due March 3, 2023**"
      ],
      "metadata": {
        "id": "ladlfupI9532"
      }
    },
    {
      "cell_type": "markdown",
      "source": [
        "April 3 notebook \n"
      ],
      "metadata": {
        "id": "hiJ4dSE690cM"
      }
    },
    {
      "cell_type": "markdown",
      "source": [
        "spike train data is the dotted one \"plot spike train data as a set of points\"\n",
        "claculat einter spike intervals nad make histogram, so using np.diff function an decode\n",
        "firing rate aginast time i svery last stwep of notebook "
      ],
      "metadata": {
        "id": "ur-nseIzibaj"
      }
    },
    {
      "cell_type": "code",
      "source": [
        "#Importing modules \n",
        "import numpy as np \n",
        "import matplotlib.pyplot as plt"
      ],
      "metadata": {
        "id": "yRtUgFMF9-YJ"
      },
      "execution_count": 1,
      "outputs": []
    },
    {
      "cell_type": "code",
      "source": [
        "url1=('https://raw.githubusercontent.com/zoyaholin/Neur265HOLIN/main/spikes_left_trial1.csv')\n",
        "spikes_left_trial1=np.loadtxt(url1, delimiter=',')\n",
        "\n",
        "url2=('https://raw.githubusercontent.com/zoyaholin/Neur265HOLIN/main/spikes_left_trial2.csv')\n",
        "spikes_left_trial2=np.loadtxt(url2, delimiter=',')\n",
        "\n",
        "url3=('https://raw.githubusercontent.com/zoyaholin/Neur265HOLIN/main/spikes_right_trial1.csv')\n",
        "spikes_right_trial1=np.loadtxt(url3, delimiter=',')\n",
        "\n",
        "url4=('https://raw.githubusercontent.com/zoyaholin/Neur265HOLIN/main/spikes_right_trial2.csv')\n",
        "spikes_right_trial2=np.loadtxt(url4, delimiter=',')"
      ],
      "metadata": {
        "id": "ieSeibDs_yJw"
      },
      "execution_count": 2,
      "outputs": []
    },
    {
      "cell_type": "code",
      "source": [
        "#Printing length of each array\n",
        "len(spikes_left_trial1)\n",
        "len(spikes_right_trial1)\n",
        "len(spikes_left_trial2)\n",
        "len(spikes_right_trial2)"
      ],
      "metadata": {
        "id": "0lV_LJPwAZUK",
        "colab": {
          "base_uri": "https://localhost:8080/"
        },
        "outputId": "e4d2e336-0e82-49a6-8072-a314093e921a"
      },
      "execution_count": 3,
      "outputs": [
        {
          "output_type": "execute_result",
          "data": {
            "text/plain": [
              "69"
            ]
          },
          "metadata": {},
          "execution_count": 3
        }
      ]
    },
    {
      "cell_type": "code",
      "source": [
        "#Firing rate left trial 1\n",
        "len(spikes_left_trial1)/30"
      ],
      "metadata": {
        "colab": {
          "base_uri": "https://localhost:8080/"
        },
        "id": "T2YmXUpn8sHZ",
        "outputId": "dbb4d0ae-c964-42bc-db58-1a21ec225e8e"
      },
      "execution_count": 4,
      "outputs": [
        {
          "output_type": "execute_result",
          "data": {
            "text/plain": [
              "2.1666666666666665"
            ]
          },
          "metadata": {},
          "execution_count": 4
        }
      ]
    },
    {
      "cell_type": "code",
      "source": [
        "#Firing rate left trial 2\n",
        "len(spikes_left_trial2)/30"
      ],
      "metadata": {
        "colab": {
          "base_uri": "https://localhost:8080/"
        },
        "id": "ebNbIm2280Cp",
        "outputId": "6ecbef18-2512-4861-f228-f06ac454aaf5"
      },
      "execution_count": 5,
      "outputs": [
        {
          "output_type": "execute_result",
          "data": {
            "text/plain": [
              "1.7666666666666666"
            ]
          },
          "metadata": {},
          "execution_count": 5
        }
      ]
    },
    {
      "cell_type": "code",
      "source": [
        "#Firing rate right trial 1\n",
        "len(spikes_right_trial1)/30"
      ],
      "metadata": {
        "colab": {
          "base_uri": "https://localhost:8080/"
        },
        "id": "-zH0Rshf84P6",
        "outputId": "c2d0c9a3-4e8e-4c9d-e612-4c8dda8c660e"
      },
      "execution_count": 6,
      "outputs": [
        {
          "output_type": "execute_result",
          "data": {
            "text/plain": [
              "1.5"
            ]
          },
          "metadata": {},
          "execution_count": 6
        }
      ]
    },
    {
      "cell_type": "code",
      "source": [
        "#Firing rate right trial 2\n",
        "len(spikes_right_trial2)/30"
      ],
      "metadata": {
        "colab": {
          "base_uri": "https://localhost:8080/"
        },
        "id": "HTTKj8Pu87d9",
        "outputId": "9334f102-b855-4b39-92e3-653eb7679989"
      },
      "execution_count": 7,
      "outputs": [
        {
          "output_type": "execute_result",
          "data": {
            "text/plain": [
              "2.3"
            ]
          },
          "metadata": {},
          "execution_count": 7
        }
      ]
    },
    {
      "cell_type": "markdown",
      "source": [
        "The firing rates have no conslusive results because the daata varies. It does not show a strong relationship between firing rate between left and right turns. "
      ],
      "metadata": {
        "id": "8cgSD4Ii9cL5"
      }
    },
    {
      "cell_type": "code",
      "source": [
        "#Subplots\n",
        "\n",
        "\n",
        "\n",
        "fig, ax= plt.subplots(1,2, figsize= (12,6))\n",
        "plt.plot(spikes_left_trial1, np.ones_like(spikes_left_trial1), '.')  # Plot spikes as a row,\n",
        "plt.plot(spikes_right_trial1, np.ones_like(spikes_right_trial1), '.')\n",
        "plt.xlim([0, 5])                                # ... display times (0, 5) s\n",
        "plt.xlabel('Time (s)')                          # ... label the x-axis\n",
        "plt.yticks([])\n"
      ],
      "metadata": {
        "id": "cLc0leQG9itM",
        "outputId": "def2839b-226a-4aa7-8372-8a6edbb4883c",
        "colab": {
          "base_uri": "https://localhost:8080/",
          "height": 802
        }
      },
      "execution_count": 14,
      "outputs": [
        {
          "output_type": "error",
          "ename": "AttributeError",
          "evalue": "ignored",
          "traceback": [
            "\u001b[0;31m---------------------------------------------------------------------------\u001b[0m",
            "\u001b[0;31mAttributeError\u001b[0m                            Traceback (most recent call last)",
            "\u001b[0;32m<ipython-input-14-fedc4d7cec78>\u001b[0m in \u001b[0;36m<cell line: 7>\u001b[0;34m()\u001b[0m\n\u001b[1;32m      5\u001b[0m \u001b[0;34m\u001b[0m\u001b[0m\n\u001b[1;32m      6\u001b[0m \u001b[0mfig\u001b[0m\u001b[0;34m,\u001b[0m \u001b[0max\u001b[0m\u001b[0;34m=\u001b[0m \u001b[0mplt\u001b[0m\u001b[0;34m.\u001b[0m\u001b[0msubplots\u001b[0m\u001b[0;34m(\u001b[0m\u001b[0;36m1\u001b[0m\u001b[0;34m,\u001b[0m\u001b[0;36m2\u001b[0m\u001b[0;34m,\u001b[0m \u001b[0mfigsize\u001b[0m\u001b[0;34m=\u001b[0m \u001b[0;34m(\u001b[0m\u001b[0;36m12\u001b[0m\u001b[0;34m,\u001b[0m\u001b[0;36m6\u001b[0m\u001b[0;34m)\u001b[0m\u001b[0;34m)\u001b[0m\u001b[0;34m\u001b[0m\u001b[0;34m\u001b[0m\u001b[0m\n\u001b[0;32m----> 7\u001b[0;31m \u001b[0max\u001b[0m\u001b[0;34m[\u001b[0m\u001b[0;36m1\u001b[0m\u001b[0;34m]\u001b[0m\u001b[0;34m.\u001b[0m\u001b[0mplt\u001b[0m\u001b[0;34m.\u001b[0m\u001b[0mplot\u001b[0m\u001b[0;34m(\u001b[0m\u001b[0mspikes_left_trial1\u001b[0m\u001b[0;34m,\u001b[0m \u001b[0mnp\u001b[0m\u001b[0;34m.\u001b[0m\u001b[0mones_like\u001b[0m\u001b[0;34m(\u001b[0m\u001b[0mspikes_left_trial1\u001b[0m\u001b[0;34m)\u001b[0m\u001b[0;34m,\u001b[0m \u001b[0;34m'.'\u001b[0m\u001b[0;34m)\u001b[0m  \u001b[0;31m# Plot spikes as a row,\u001b[0m\u001b[0;34m\u001b[0m\u001b[0;34m\u001b[0m\u001b[0m\n\u001b[0m\u001b[1;32m      8\u001b[0m \u001b[0max\u001b[0m\u001b[0;34m[\u001b[0m\u001b[0;36m1\u001b[0m\u001b[0;34m]\u001b[0m\u001b[0;34m.\u001b[0m\u001b[0mplt\u001b[0m\u001b[0;34m.\u001b[0m\u001b[0mplot\u001b[0m\u001b[0;34m(\u001b[0m\u001b[0mspikes_right_trial1\u001b[0m\u001b[0;34m,\u001b[0m \u001b[0mnp\u001b[0m\u001b[0;34m.\u001b[0m\u001b[0mones_like\u001b[0m\u001b[0;34m(\u001b[0m\u001b[0mspikes_right_trial1\u001b[0m\u001b[0;34m)\u001b[0m\u001b[0;34m,\u001b[0m \u001b[0;34m'.'\u001b[0m\u001b[0;34m)\u001b[0m\u001b[0;34m\u001b[0m\u001b[0;34m\u001b[0m\u001b[0m\n\u001b[1;32m      9\u001b[0m \u001b[0max\u001b[0m\u001b[0;34m[\u001b[0m\u001b[0;36m1\u001b[0m\u001b[0;34m]\u001b[0m\u001b[0;34m.\u001b[0m\u001b[0mplt\u001b[0m\u001b[0;34m.\u001b[0m\u001b[0mxlim\u001b[0m\u001b[0;34m(\u001b[0m\u001b[0;34m[\u001b[0m\u001b[0;36m0\u001b[0m\u001b[0;34m,\u001b[0m \u001b[0;36m5\u001b[0m\u001b[0;34m]\u001b[0m\u001b[0;34m)\u001b[0m                                \u001b[0;31m# ... display times (0, 5) s\u001b[0m\u001b[0;34m\u001b[0m\u001b[0;34m\u001b[0m\u001b[0m\n",
            "\u001b[0;31mAttributeError\u001b[0m: 'Axes' object has no attribute 'plt'"
          ]
        },
        {
          "output_type": "display_data",
          "data": {
            "text/plain": [
              "<Figure size 1200x600 with 2 Axes>"
            ],
            "image/png": "[encoded data removed]"
          },
          "metadata": {}
        }
      ]
    },
    {
      "cell_type": "markdown",
      "source": [],
      "metadata": {
        "id": "Je_hDsvd-A4F"
      }
    },
    {
      "cell_type": "code",
      "source": [
        "from IPython.utils.py3compat import decode\n"
      ],
      "metadata": {
        "id": "6jyV94-i-FyB"
      },
      "execution_count": null,
      "outputs": []
    },
    {
      "cell_type": "code",
      "source": [],
      "metadata": {
        "id": "zdRiCA8J-FS8"
      },
      "execution_count": null,
      "outputs": []
    },
    {
      "cell_type": "markdown",
      "source": [
        "# Coding Homework #7\n",
        "\n",
        "**Instructions**\n",
        "\n",
        "1. Make a *Markdown Cell* that contains the following information:\n",
        "- Your name (small header)\n",
        "- The name of this class (italicized)\n",
        "- The date (bolded)\n",
        "\n",
        "2. Create a *Code Cell* that imports relevant modules - specifically, <code>numpy as np</code>, and <code>matplotlib.pyplot as plt</code>.\n",
        "\n",
        "3. For this assignment, you will be working with the <code>spikes_left_trial1.csv</code>, <code>spikes_right_trial1.csv</code>, <code>spikes_left_trial2</code>, and <code>spikes_right_trial2</code> files in our shared Google Drive folder. Create a *Code Cell* that imports these files as <code>numpy</code> arrays called <code>spikes_left_trial1</code>, <code>spikes_right_trial1</code>, <code>spikes_left_trial2</code>, and <code>spikes_right_trial2</code>, respectively. To do this, you should upload each file to your personal GitHub repo.\n",
        "\n",
        "4. Create a *Code Cell* that prints the <code>length</code> of each array.\n",
        "\n",
        "5. These data contain timestamp values for action potentials recorded from one neuron in the rat prefrontal cortex (PFC). Action potentials were recorded from tetrodes while the rat performed a task designed to test working memory - the **delayed alternation task**. During this task, rats were trained to go up the central stem of a _figure 8_ maze, and turn either left or right. Rewards (chocolate sprinkles) were placed at the end of the goal arm (the arm the rat went up after it made its turn at the end of the stem). The rat received a reward if it alternated between the two goal arms from trial to trial. In other words, the rat learned to go *left* on trial 1, and then *right* on trial 2, *left* on trial 3, etc. Between trials, the rat waited on a pedestal at the base of the maze for 30 seconds. This waiting period tested the rat's working memory because it had to keep in mind where it was going to go (left or right) when the 30 second waiting period was up. The spike timestamps in the four arrays you imported were from this 30 second waiting period. Specifically, <code>spikes_left_trial1</code> is from the waiting period before the first *left turn* trial (i.e., the rat turned left after the waiting period was up), and <code>spikes_right_trial1</code> is from the waiting period before the first *right turn* trial (i.e., the rat turned right after the waiting period was up). The <code>spikes_left_trial2</code> and <code>spikes_right_trial2</code> arrays are the same, but for the second left and right turn trials. We are interested to know whether the firing rate of this cell during the waiting period might predict which direction the rat turns on the upcoming trial.\n",
        "\n",
        "6. In a new *Code Cell*, write an expression to determine the firing rate of this neuron during each trial (first and second left turn trials, first and second right turn trials).\n",
        "\n",
        "7. In a new *Markdown Cell*, interpret these results - do you think this neuron fires more before left turn trials, or right turn trials?\n",
        "\n",
        "8. In a new *Code Cell*, make two subplots, and plot the spike train data from trial 1 in your first subplot, and the spike train data from trial 2 in your second subplot. You should have dots that correspond to action potentials in two rows (one for left turn, one for right turn) in each subplot. Label your axes. \n",
        "\n",
        "9. In a new *Markdown Cell*, interpret the graph from step 8. Does this neuron seem more \"bursty\", or more regular-firing, during left or right turn trials? \n",
        "\n",
        "10. In a new *Code Cell*, calculate inter-spike interval (ISI) arrays for each of your four spike arrays using the <code>np.diff()</code> function. Make sure to create a variable name for each ISI array.\n",
        "\n",
        "11. In a new *Code Cell*, make four histograms - one for each of your four ISI arrays. Set the bins for your histograms to start at time 0, and end at time 2 s, with a bin size equal to 0.01 s. Label your axes.\n",
        "\n",
        "12. In a new *Markdown Cell*, interpret your histograms. Does this neuron tend to fire in \"bursts\"? Does it have higher \"burstiness\" during left or right turn trials?\n",
        "\n",
        "13. In a new *Code Cell*, calculate the firing rate across time for each of your four arrays (trial 1 left-turn, trial 1 right-turn, trial 2 left-turn, and trial 2 right-turn). Set your time bins equal to start at 0 s, end at 30 s (the length of the waiting period), with a bin size equal to 1 s. Create two subplots, and plot the firing rate over time for each trial in each of the two subplots. For example, your first subplot should have the firing rate across time for trial 1 left-turn, and trial 1 right-turn, and your second subplot should have the firing rate across time for trial 2 left-turn, and trial 2 right-turn. Make the line for right-turn trials blue, and the line for left-turn trials red. Label your axes.\n",
        "\n",
        "14. In a new *Markdown Cell*, interpret your graph from step 13. Does the firing rate between left and right turn trials differ at specific timepoints during the 30 s waiting period? Is the pattern different for trial 1 and trial 2? \n",
        "\n",
        "15. Make sure to put a <code>#</code> in each *Code Cell* to describe what it does.\n",
        "\n",
        "16. Save a copy of this notebook to your GitHub repo with the title <code>coding_homework_7.ipynb</code>."
      ],
      "metadata": {
        "id": "8PeYpSUQiq6c"
      }
    }
  ]
}