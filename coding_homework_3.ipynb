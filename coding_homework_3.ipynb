{
  "nbformat": 4,
  "nbformat_minor": 0,
  "metadata": {
    "colab": {
      "provenance": [],
      "include_colab_link": true
    },
    "kernelspec": {
      "name": "python3",
      "display_name": "Python 3"
    },
    "language_info": {
      "name": "python"
    }
  },
  "cells": [
    {
      "cell_type": "markdown",
      "metadata": {
        "id": "view-in-github",
        "colab_type": "text"
      },
      "source": [
        "<a href=\"https://colab.research.google.com/github/zoyaholin/Neur265HOLIN/blob/main/coding_homework_3.ipynb\" target=\"_parent\"><img src=\"https://colab.research.google.com/assets/colab-badge.svg\" alt=\"Open In Colab\"/></a>"
      ]
    },
    {
      "cell_type": "markdown",
      "source": [
        "Zoya Holin\n",
        "\n",
        "*Intro to Neural Data Analysis*\n",
        "\n",
        "**Due March 3, 2023**"
      ],
      "metadata": {
        "id": "wzAlYqQ9mKh6"
      }
    },
    {
      "cell_type": "code",
      "source": [
        "#2 Importing numpy, matplotlib, and scipy \n",
        "import numpy as np\n",
        "import matplotlib.pyplot as plt\n",
        "import scipy.stats as stats\n"
      ],
      "metadata": {
        "id": "g7UrS56jmkIt"
      },
      "execution_count": 6,
      "outputs": []
    },
    {
      "cell_type": "code",
      "source": [
        "#3 Import v_rest1 and v_rest2\n",
        "url1=('https://raw.githubusercontent.com/zoyaholin/Neur265HOLIN/main/vrest_1.csv')\n",
        "v_rest1=np.loadtxt(url1)\n",
        "\n",
        "url2=('https://raw.githubusercontent.com/zoyaholin/Neur265HOLIN/main/vrest_2.csv')\n",
        "v_rest2=np.loadtxt(url2)\n",
        "\n",
        "v_rest_1=np.array([v_rest1])\n",
        "v_rest_2=np.array([v_rest2])\n"
      ],
      "metadata": {
        "id": "Am0toDv2mzv3"
      },
      "execution_count": 8,
      "outputs": []
    },
    {
      "cell_type": "code",
      "source": [
        "#4a Mean of v_rest1 \n",
        "v_rest1_mean=v_rest_1.mean()\n",
        "print(v_rest1_mean)\n"
      ],
      "metadata": {
        "id": "x9anJDk-nWd4",
        "colab": {
          "base_uri": "https://localhost:8080/"
        },
        "outputId": "a82fed9c-703f-45ed-9726-991bc1aa0fb0"
      },
      "execution_count": 9,
      "outputs": [
        {
          "output_type": "stream",
          "name": "stdout",
          "text": [
            "-69.62626468307691\n"
          ]
        }
      ]
    },
    {
      "cell_type": "code",
      "source": [
        "#4a Mean of v_rest2\n",
        "v_rest2_mean=v_rest_2.mean()\n",
        "print(v_rest2_mean)\n"
      ],
      "metadata": {
        "colab": {
          "base_uri": "https://localhost:8080/"
        },
        "id": "-FGnWSz46HT9",
        "outputId": "dd25d319-4531-4cdb-c92c-b687001b48a2"
      },
      "execution_count": 10,
      "outputs": [
        {
          "output_type": "stream",
          "name": "stdout",
          "text": [
            "-66.54076445153846\n"
          ]
        }
      ]
    },
    {
      "cell_type": "code",
      "source": [
        "#4b ttest for means \n",
        "v_rest1_mean=np.random.normal(-69.62626468307691)\n",
        "v_rest2_mean=np.random.normal(-66.54076445153846)\n",
        "stats.ttest_ind(v_rest_1[0],v_rest_2[0])"
      ],
      "metadata": {
        "colab": {
          "base_uri": "https://localhost:8080/"
        },
        "id": "yzeVOQuK6Zzf",
        "outputId": "fc72f02f-c06d-48bd-9d48-3124ac12dad1"
      },
      "execution_count": 11,
      "outputs": [
        {
          "output_type": "execute_result",
          "data": {
            "text/plain": [
              "Ttest_indResult(statistic=-1.2353188694018347, pvalue=0.22866846463247684)"
            ]
          },
          "metadata": {},
          "execution_count": 11
        }
      ]
    },
    {
      "cell_type": "code",
      "source": [
        "#4c Plotting histogram of v_rest1 and v_rest2\n",
        "a=v_rest_1\n",
        "b=v_rest_2\n",
        "\n",
        "fig, ax = plt.subplots(1,2)\n",
        "ax[0].hist(v_rest_1[0,:])\n",
        "ax[0].set_ylabel('frequency')\n",
        "ax[0].set_xlabel('resting membrane potential')\n",
        "\n",
        "ax[1].hist(v_rest_2[0,:])\n",
        "ax[1].set_ylabel('frequency')\n",
        "ax[1].set_xlabel('resting membrane potential')\n",
        "\n",
        "plt.show()"
      ],
      "metadata": {
        "colab": {
          "base_uri": "https://localhost:8080/",
          "height": 280
        },
        "id": "Jkg3T6Cj8U9K",
        "outputId": "25943da8-0134-4bb5-c247-d14d155a70b0"
      },
      "execution_count": 12,
      "outputs": [
        {
          "output_type": "display_data",
          "data": {
            "text/plain": [
              "<Figure size 432x288 with 2 Axes>"
            ],
            "image/png": "[encoded data removed]"
          },
          "metadata": {
            "needs_background": "light"
          }
        }
      ]
    },
    {
      "cell_type": "code",
      "source": [
        "#5 Making vrestHist()\n",
        "def vrestHist():\n",
        "  v_rest1_mean=v_rest_1.mean()\n",
        "  print(v_rest1_mean)\n",
        "  v_rest2_mean=v_rest_2.mean()\n",
        "  print(v_rest2_mean)\n",
        "\n",
        "  v_rest1_mean=np.random.normal(-69.62626468307691)\n",
        "  v_rest2_mean=np.random.normal(-66.54076445153846)\n",
        "  stats.ttest_ind(v_rest_1[0],v_rest_2[0])\n",
        "  \n",
        "  a=v_rest_1\n",
        "  b=v_rest_2\n",
        "\n",
        "  fig, ax = plt.subplots(1,2)\n",
        "  ax[0].hist(v_rest_1[0,:])\n",
        "  ax[0].set_ylabel('frequency')\n",
        "  ax[0].set_xlabel('resting membrane potential')\n",
        "\n",
        "  ax[1].hist(v_rest_2[0,:])\n",
        "  ax[1].set_ylabel('frequency')\n",
        "  ax[1].set_xlabel('resting membrane potential')\n",
        "\n",
        "plt.show()\n",
        "\n"
      ],
      "metadata": {
        "id": "2exKTgBZ-o1n"
      },
      "execution_count": 13,
      "outputs": []
    },
    {
      "cell_type": "code",
      "source": [
        "#6 Calling vrestHist()\n",
        "vrestHist()"
      ],
      "metadata": {
        "id": "Gftoq7arPFj5"
      },
      "execution_count": null,
      "outputs": []
    },
    {
      "cell_type": "code",
      "source": [
        "#7a Looping through v_rest1 and v_rest2, and plotting scatterplot \n",
        "\n",
        "def vrestscatter(v_rest_1,v_rest_2):\n",
        "  plt.scatter([],[])\n",
        "  \n",
        "  for i in range(len(v_rest_1)):\n",
        "    x=v_rest_1[0,i]\n",
        "    y=v_rest_2[0,i]\n",
        "    if x>-60 and y>-60:\n",
        "      plt.scatter([x],[y], color='red')\n",
        "    elif x>-60 and y<-60:\n",
        "      plt.scatter([x],[y], color='green')\n",
        "    else:\n",
        "      x<-60 and y<-60\n",
        "      plt.scatter([x],[y], color='blue')\n",
        "\n",
        "plt.ylabel('Membrane Potential v_rest_1')\n",
        "plt.xlabel('Membrane Potential v_rest_2')\n",
        "\n",
        "plt.show()\n"
      ],
      "metadata": {
        "id": "i5JyuED_POWO",
        "outputId": "c49193a1-de60-441d-b838-8e4fd89e551e",
        "colab": {
          "base_uri": "https://localhost:8080/",
          "height": 284
        }
      },
      "execution_count": 55,
      "outputs": [
        {
          "output_type": "display_data",
          "data": {
            "text/plain": [
              "<Figure size 432x288 with 1 Axes>"
            ],
            "image/png": "[encoded data removed]"
          },
          "metadata": {
            "needs_background": "light"
          }
        }
      ]
    },
    {
      "cell_type": "code",
      "source": [
        "#8 Making vrestScatter()\n",
        "def vrestScatter():\n",
        "  vrestscatter(v_rest_1,v_rest_2)\n",
        "  plt.scatter([],[])\n",
        "  \n",
        "  for i in range(len(v_rest_1)):\n",
        "    x=v_rest_1[0,i]\n",
        "    y=v_rest_2[0,i]\n",
        "    if x>-60 and y>-60:\n",
        "      plt.scatter([x],[y], marker='o', color='red')\n",
        "    elif x>-60 and y<-60:\n",
        "      plt.scatter([x],[y], marker='o', color='green')\n",
        "    else:\n",
        "      x<-60 and y<-60\n",
        "      plt.scatter([x],[y], marker='o', color='blue')\n",
        "\n",
        "  plt.ylabel('Membrane Potential v_rest_1')\n",
        "  plt.xlabel('Membrane Potential v_rest_2')\n",
        "\n",
        "  plt.show()\n",
        "\n",
        "  "
      ],
      "metadata": {
        "id": "-nui6v53er8i"
      },
      "execution_count": 54,
      "outputs": []
    },
    {
      "cell_type": "code",
      "source": [
        "vrestScatter()"
      ],
      "metadata": {
        "id": "gixWTGYLfDeq",
        "outputId": "7222f49b-8dfd-452b-df5f-72234850b58e",
        "colab": {
          "base_uri": "https://localhost:8080/",
          "height": 280
        }
      },
      "execution_count": 56,
      "outputs": [
        {
          "output_type": "display_data",
          "data": {
            "text/plain": [
              "<Figure size 432x288 with 1 Axes>"
            ],
            "image/png": "[encoded data removed]"
          },
          "metadata": {
            "needs_background": "light"
          }
        }
      ]
    },
    {
      "cell_type": "markdown",
      "source": [
        "7) Make a Code Cell that does the following:\n",
        "a. Loops through each column of v_rest1 and v_rest2 and makes a scatter plot with v_rest1 on the x-axis and v_rest2 on the y-axis.\n",
        "\n",
        "b. Each iteration of your loop should plot a different point on the scatter plot. At the end of your loop, you should have only one scatter plot with number of data points equal to the length of v_rest1 and v_rest2.\n",
        "\n",
        "c. Your loop should plot a red dot if both values in v_rest1 and v_rest2 are greater than -60, a green dot if values in v_rest1 are greater than -60, but values in v_rest2 are less than -60, and a blue dot if both values in v_rest1 and v_rest2 are less than -60.\n",
        "\n",
        "d. Labels your y-axis and your x-axis (this code should be outside of your loop).\n",
        " \n",
        "8) Make a Code Cell that defines a function called vrestScatter(). This function should execute the code in step 7 when called. Remember to tell python that you want the function to show your plot when you call it!"
      ],
      "metadata": {
        "id": "QViNS0coRRQz"
      }
    },
    {
      "cell_type": "markdown",
      "source": [
        "# Coding Homework #3\n",
        "\n",
        "**Instructions**\n",
        "\n",
        "1. Make a *Markdown Cell* that contains the following information:\n",
        "- Your name (small header)\n",
        "- The name of this class (italicized)\n",
        "- The date (bolded)\n",
        "\n",
        "2. Make a *Code Cell* that imports <code>numpy</code> as <code>np</code>, <code>matplotlib.pyplot</code> as <code>plt</code>, and <code>scipy.stats</code> as <code>stats</code>.\n",
        "\n",
        "3. Make a *Code Cell* that imports your <code>v_rest1.csv</code> and <code>v_rest2.csv</code> variables as <code>numpy</code> arrays called <code>v_rest1</code> and <code>v_rest2</code> respectively.\n",
        "\n",
        "4. Make a *Code Cell* that does the following:\n",
        "  \n",
        "  a. Finds the means of <code>v_rest1</code> and <code>v_rest2</code>.\n",
        "  \n",
        "  b. Performs a t-test to test the null hypothesis that the means of <code>v_rest1</code> and <code>v_rest2</code> come from different distributions.\n",
        "\n",
        "  c. Plots a histogram of <code>v_rest1</code> in one subplot, and a histogram of <code>v_rest2</code> in another subplot if the p-value of the t-test is > 0.05. You can make two subplots using the syntax <code>fig, ax = plt.subplots(1,1)</code>.\n",
        "\n",
        "  d. Labels the y-axis and x-axis of your histograms (recall that <code>ax.ylabel</code> and <code>ax.xlabel</code> are the methods that let you accomplish this).\n",
        "\n",
        "5. Make a *Code Cell* that defines a function called <code>vrestHist()</code>. This function should execute the code in step 4 when called. Remember to tell python that you want the function to show your plots when you call it!\n",
        "\n",
        "6. Make a *Code Cell* that calls <code>vrestHist()</code>.\n",
        "\n",
        "7. Make a *Code Cell* that does the following:\n",
        "\n",
        "    a. Loops through each column of <code>v_rest1</code> and <code>v_rest2</code> and makes a scatter plot with <code>v_rest1</code> on the x-axis and <code>v_rest2</code> on the y-axis. \n",
        "\n",
        "    b. Each iteration of your loop should plot a different point on the scatter plot. At the end of your loop, you should have only one scatter plot with number of data points equal to the length of <code>v_rest1</code> and <code>v_rest2</code>.\n",
        "\n",
        "    c. Your loop should plot a <font color = 'red'>red</font> dot if *both* values in <code>v_rest1</code> and <code>v_rest2</code> are greater than -60, a <font color = 'green'>green</font> dot if values in <code>v_rest1</code> are greater than -60, but values in <code>v_rest2</code> are less than -60, and a <font color = 'blue'>blue</font> dot if *both* values in <code>v_rest1</code> and <code>v_rest2</code> are less than -60. \n",
        "\n",
        "    d. Labels your y-axis and your x-axis (this code should be outside of your loop).\n",
        "\n",
        "8. Make a *Code Cell* that defines a function called <code>vrestScatter()</code>. This function should execute the code in step 7 when called. Remember to tell python that you want the function to show your plot when you call it!\n",
        "\n",
        "9. Save a copy of this notebook to your GitHub repo with the title \"coding_homework_3.ipynb\"."
      ],
      "metadata": {
        "id": "zbzMCJlMN3ph"
      }
    }
  ]
}