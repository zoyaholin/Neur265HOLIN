{
  "nbformat": 4,
  "nbformat_minor": 0,
  "metadata": {
    "colab": {
      "provenance": [],
      "authorship_tag": "ABX9TyNffVYe3Hla2aIOkGtvQloL",
      "include_colab_link": true
    },
    "kernelspec": {
      "name": "python3",
      "display_name": "Python 3"
    },
    "language_info": {
      "name": "python"
    }
  },
  "cells": [
    {
      "cell_type": "markdown",
      "metadata": {
        "id": "view-in-github",
        "colab_type": "text"
      },
      "source": [
        "<a href=\"https://colab.research.google.com/github/zoyaholin/Neur265HOLIN/blob/main/Final_Project.ipynb\" target=\"_parent\"><img src=\"https://colab.research.google.com/assets/colab-badge.svg\" alt=\"Open In Colab\"/></a>"
      ]
    },
    {
      "cell_type": "code",
      "execution_count": 1,
      "metadata": {
        "id": "JzY_RR3pS48Z"
      },
      "outputs": [],
      "source": [
        "import numpy as np\n",
        "import pandas as pd \n",
        "import matplotlib.pyplot as plt"
      ]
    },
    {
      "cell_type": "code",
      "source": [
        "url= 'https://raw.githubusercontent.com/zoyaholin/Neur265HOLIN/main/patch_seq_final_project.csv'\n",
        "patch_seq_final= pd.read_csv(url)\n",
        "\n",
        "url1= 'https://raw.githubusercontent.com/zoyaholin/Neur265HOLIN/main/alzheimers_pathology_final_project.csv'\n",
        "alz_path= pd.read_csv(url1)\n",
        "print(alz_path)\n",
        "\n"
      ],
      "metadata": {
        "colab": {
          "base_uri": "https://localhost:8080/"
        },
        "id": "iKy8wy__TC_X",
        "outputId": "e64bfe1f-7588-42fc-b8c7-0bad92789853"
      },
      "execution_count": 5,
      "outputs": [
        {
          "output_type": "stream",
          "name": "stdout",
          "text": [
            "    Unnamed: 0    Donor ID  total AT8 positive area_Grey matter  \\\n",
            "0            0  H20.33.045                         3.877395e+06   \n",
            "1            1  H20.33.044                         1.930647e+04   \n",
            "2            2  H21.33.045                         6.336955e+06   \n",
            "3            3  H20.33.046                         6.552073e+05   \n",
            "4            4  H20.33.014                         1.610181e+05   \n",
            "..         ...         ...                                  ...   \n",
            "79          79  H21.33.039                         2.168084e+06   \n",
            "80          80  H21.33.040                         3.087407e+06   \n",
            "81          81  H21.33.041                         5.216760e+05   \n",
            "82          82  H21.33.042                         3.841064e+06   \n",
            "83          83  H21.33.043                         2.739650e+04   \n",
            "\n",
            "    total AT8 positive area_Layer1  total AT8 positive area_Layer2  \\\n",
            "0                    643716.625000                   280887.093800   \n",
            "1                      4761.578613                     1835.943848   \n",
            "2                    793676.500000                   860485.562500   \n",
            "3                    279479.625000                   153697.968800   \n",
            "4                     31380.876950                    35770.085940   \n",
            "..                             ...                             ...   \n",
            "79                   229363.406300                   343089.281300   \n",
            "80                   391799.281300                   435721.281300   \n",
            "81                    44282.300780                    70100.750000   \n",
            "82                   111307.210900                   410594.500000   \n",
            "83                     3263.033691                     4088.541504   \n",
            "\n",
            "    total AT8 positive area_Layer3  total AT8 positive area_Layer4  \\\n",
            "0                     1.254377e+06                   345364.281300   \n",
            "1                     4.719058e+03                     1448.979126   \n",
            "2                     2.017694e+06                   514507.093800   \n",
            "3                     1.034985e+05                    30003.353520   \n",
            "4                     6.372464e+04                    11346.017580   \n",
            "..                             ...                             ...   \n",
            "79                    8.755077e+05                   144139.328100   \n",
            "80                    1.286870e+06                   185862.328100   \n",
            "81                    3.186330e+05                    19372.138670   \n",
            "82                    1.387570e+06                   311343.562500   \n",
            "83                    8.792503e+03                     2671.264404   \n",
            "\n",
            "    total AT8 positive area_Layer5-6  total pTDP43 positive area_Grey matter  \\\n",
            "0                       1.353050e+06                                0.000000   \n",
            "1                       6.540912e+03                                0.000000   \n",
            "2                       2.150592e+06                            32320.361940   \n",
            "3                       8.852787e+04                             6033.681061   \n",
            "4                       1.879647e+04                                0.000000   \n",
            "..                               ...                                     ...   \n",
            "79                      5.759839e+05                            45399.669430   \n",
            "80                      7.871542e+05                                0.000000   \n",
            "81                      6.928782e+04                                0.000000   \n",
            "82                      1.620248e+06                                0.000000   \n",
            "83                      8.581157e+03                                0.000000   \n",
            "\n",
            "    total pTDP43 positive area_Layer1  ...  GFAP area analyzed_Layer4  \\\n",
            "0                            0.000000  ...                11055656.00   \n",
            "1                            0.000000  ...                 6620353.00   \n",
            "2                         2977.464600  ...                 8399442.00   \n",
            "3                         1180.770874  ...                 3844266.25   \n",
            "4                            0.000000  ...                 5923990.50   \n",
            "..                                ...  ...                        ...   \n",
            "79                        9304.514648  ...                 4435225.50   \n",
            "80                           0.000000  ...                 7005611.50   \n",
            "81                           0.000000  ...                 5955820.50   \n",
            "82                           0.000000  ...                 8130220.50   \n",
            "83                           0.000000  ...                 9706169.00   \n",
            "\n",
            "    GFAP area analyzed_Layer5-6  ripa abeta40_Grey matter  \\\n",
            "0                      36171888                981.444000   \n",
            "1                      33180848                  0.007088   \n",
            "2                      36778840                 21.423158   \n",
            "3                      11699817                 25.295789   \n",
            "4                      13225602                  0.526168   \n",
            "..                          ...                       ...   \n",
            "79                     18118974                  1.450526   \n",
            "80                     34048696                  5.010526   \n",
            "81                     22808794                  0.065192   \n",
            "82                     36212492                 20.538947   \n",
            "83                     38430856                  1.593684   \n",
            "\n",
            "    ripa abeta42_Grey matter  ripa tTau_Grey matter  ripa pTau_Grey matter  \\\n",
            "0                 142.778000            1122.432229               5.415789   \n",
            "1                   0.245263            7005.543158               5.630526   \n",
            "2                  53.878947             147.565263              11.489474   \n",
            "3                  69.988421             283.436842              15.917895   \n",
            "4                  16.137895             258.624211               3.398947   \n",
            "..                       ...                    ...                    ...   \n",
            "79                 76.226316             704.801053               4.146316   \n",
            "80                 88.169474             740.583158               3.327368   \n",
            "81                  0.490526             894.136842               3.850526   \n",
            "82                 47.932632             531.651579               2.507368   \n",
            "83                 29.892632             611.000000               4.404211   \n",
            "\n",
            "    guhcl abeta40_Grey matter  guhcl abeta42_Grey matter  \\\n",
            "0                 2179.336000                1737.483712   \n",
            "1                    0.203116                   0.311579   \n",
            "2                   46.231579                 954.656984   \n",
            "3                   46.929474                1103.876312   \n",
            "4                    1.675758                  97.642105   \n",
            "..                        ...                        ...   \n",
            "79                   2.818947                 182.274737   \n",
            "80                   6.568421                 340.077895   \n",
            "81                   0.071711                   0.898947   \n",
            "82                  51.310526                 330.860000   \n",
            "83                   3.465263                 114.392632   \n",
            "\n",
            "    guhcl tTau_Grey matter  guhcl pTau_Grey matter  \n",
            "0                27.065263                2.638947  \n",
            "1               109.728421                1.957895  \n",
            "2                14.405263                1.678947  \n",
            "3                17.046316                2.871579  \n",
            "4                83.395789                1.680000  \n",
            "..                     ...                     ...  \n",
            "79               74.063158                2.188421  \n",
            "80              110.118947                1.825263  \n",
            "81              141.738947                2.167368  \n",
            "82              129.435789                1.876842  \n",
            "83               48.078947                2.775789  \n",
            "\n",
            "[84 rows x 394 columns]\n"
          ]
        }
      ]
    },
    {
      "cell_type": "code",
      "source": [
        "AT8_3= alz_path.iloc[:, :-1].values\n",
        "print(AT8_3)"
      ],
      "metadata": {
        "colab": {
          "base_uri": "https://localhost:8080/"
        },
        "id": "lXgILYZLvyok",
        "outputId": "36c848c5-3398-4ebf-b88a-bc6e9bd51223"
      },
      "execution_count": 8,
      "outputs": [
        {
          "output_type": "stream",
          "name": "stdout",
          "text": [
            "[[0 'H20.33.045' 3877394.75 ... 2179.336 1737.483712 27.06526316]\n",
            " [1 'H20.33.044' 19306.47083 ... 0.203115789 0.311578947 109.7284211]\n",
            " [2 'H21.33.045' 6336955.406 ... 46.23157895 954.6569841 14.40526316]\n",
            " ...\n",
            " [81 'H21.33.041' 521676.0098 ... 0.071710972 0.898947368 141.7389474]\n",
            " [82 'H21.33.042' 3841063.523 ... 51.31052632 330.86 129.4357895]\n",
            " [83 'H21.33.043' 27396.49976 ... 3.465263158 114.3926316 48.07894737]]\n"
          ]
        }
      ]
    },
    {
      "cell_type": "code",
      "source": [
        "print(total AT8 positive area_Layer3)"
      ],
      "metadata": {
        "id": "u1UrcJVBzdmm",
        "outputId": "f768f64d-9a91-4830-c8b2-c7a83c17f4c4",
        "colab": {
          "base_uri": "https://localhost:8080/",
          "height": 158
        }
      },
      "execution_count": 16,
      "outputs": [
        {
          "output_type": "error",
          "ename": "SyntaxError",
          "evalue": "ignored",
          "traceback": [
            "\u001b[0;36m  File \u001b[0;32m\"<ipython-input-16-4d2ea0502f03>\"\u001b[0;36m, line \u001b[0;32m1\u001b[0m\n\u001b[0;31m    print(total AT8 positive area_Layer3)\u001b[0m\n\u001b[0m                ^\u001b[0m\n\u001b[0;31mSyntaxError\u001b[0m\u001b[0;31m:\u001b[0m invalid syntax\n"
          ]
        }
      ]
    },
    {
      "cell_type": "code",
      "source": [
        "AT8_length = len(alz_path)\n",
        "\n",
        "for i in range(AT8_length):\n",
        "  if alz_path.iloc[i,2] == 'Sst':\n",
        "    plt.scatter(alz_path.iloc[i,0],alz_path.iloc[i,1],color = \"blue\")\n",
        "  if alz_path.iloc[i,2]== 'Pvalb':\n",
        "    plt.scatter(patch_seq.iloc[i,0],patch_seq.iloc[i,1],color = \"red\")"
      ],
      "metadata": {
        "colab": {
          "base_uri": "https://localhost:8080/"
        },
        "id": "GkhwB-JUyEfb",
        "outputId": "e2ac5302-9e3a-4199-f89a-b4d5cb0179d9"
      },
      "execution_count": 14,
      "outputs": [
        {
          "output_type": "stream",
          "name": "stdout",
          "text": [
            "<function scatter at 0x7fe5cc5d8ee0>\n"
          ]
        }
      ]
    }
  ]
}