{
  "nbformat": 4,
  "nbformat_minor": 0,
  "metadata": {
    "colab": {
      "provenance": [],
      "include_colab_link": true
    },
    "kernelspec": {
      "name": "python3",
      "display_name": "Python 3"
    },
    "language_info": {
      "name": "python"
    }
  },
  "cells": [
    {
      "cell_type": "markdown",
      "metadata": {
        "id": "view-in-github",
        "colab_type": "text"
      },
      "source": [
        "<a href=\"https://colab.research.google.com/github/zoyaholin/Neur265HOLIN/blob/main/04_19_23.ipynb\" target=\"_parent\"><img src=\"https://colab.research.google.com/assets/colab-badge.svg\" alt=\"Open In Colab\"/></a>"
      ]
    },
    {
      "cell_type": "markdown",
      "source": [
        "#RNA-Sequencing: Spatial Transcriptomics\n",
        "\n",
        "In our last notebook, we covered \"single-cell RNA-sequencing\", which is a special kind of RNA-sequencing that preserves cell identities (in contrast to bulk RNA-sequencing, which is done with homogenized tissue). In this notebook, we will explore \"spatial transcriptomics\" - a special instance of RNA-sequencing that lets you preserve the spatial location (along a brain slice, for instance) of gene expression. "
      ],
      "metadata": {
        "id": "i94mF6vDP8sp"
      }
    },
    {
      "cell_type": "markdown",
      "source": [
        "##By the end of this notebook, you will be able to:\n",
        "\n",
        "- Perform quality control on spatial transcriptomics data\n",
        "- Map genes corresponding to bulk labels onto a brain section\n",
        "- Look at how specific genes map onto bulk labeled clusters"
      ],
      "metadata": {
        "id": "r6eZWYzeR97f"
      }
    },
    {
      "cell_type": "markdown",
      "source": [
        "##Introduction\n",
        "\n",
        "<img src = 'https://drive.google.com/uc?id=19C8pMr8v68HweyP-SBxP8NkvC1F3_UL2'>\n",
        "\n",
        "The brain is highly heterogeneous - it contains lots of different types of cells, and these cells are distributed differently in different brain regions. \n",
        "\n",
        "Sometimes, it's useful to know whether clusters of cells that share common patterns of gene expression are also spatially clustered together in common parts of the brain. \n",
        "\n",
        "\"Spatial transcriptomics\" is a technique that lets us achieve this."
      ],
      "metadata": {
        "id": "PfmGvbqeSQdu"
      }
    },
    {
      "cell_type": "markdown",
      "source": [
        "<img src = 'https://drive.google.com/uc?id=16t49zP29crcRrApFc77l5TJ6F76zgn8p'>\n",
        "\n",
        "Spatial transcriptomics involves performing cDNA synthesis directly onto a slice of tissue (taken, for example, from a brain). The tissue is partitioned into distinct spatial compartments (think of these like dots on a piece of mesh), and cDNA synthesis and RNA-sequencing is performed for each dot. The dots receive a special \"barcode\" (a unique genetic sequence added), and this barcode is used to place each dot back onto the tissue slice. "
      ],
      "metadata": {
        "id": "UYsMk0o9TND1"
      }
    },
    {
      "cell_type": "markdown",
      "source": [
        "##Case Study Data\n",
        "\n",
        "We will be working with a slice of brain from the human medial temporal lobe (MTL). "
      ],
      "metadata": {
        "id": "lOZARxWtT9cu"
      }
    },
    {
      "cell_type": "code",
      "execution_count": 43,
      "metadata": {
        "id": "SqCRNySUGFDV",
        "outputId": "56cda814-e624-4149-d5b3-4a0be26ff8e5",
        "colab": {
          "base_uri": "https://localhost:8080/"
        }
      },
      "outputs": [
        {
          "output_type": "stream",
          "name": "stdout",
          "text": [
            "Looking in indexes: https://pypi.org/simple, https://us-python.pkg.dev/colab-wheels/public/simple/\n",
            "Requirement already satisfied: scanpy in /usr/local/lib/python3.9/dist-packages (1.9.3)\n",
            "Requirement already satisfied: seaborn in /usr/local/lib/python3.9/dist-packages (from scanpy) (0.12.2)\n",
            "Requirement already satisfied: h5py>=3 in /usr/local/lib/python3.9/dist-packages (from scanpy) (3.8.0)\n",
            "Requirement already satisfied: anndata>=0.7.4 in /usr/local/lib/python3.9/dist-packages (from scanpy) (0.9.1)\n",
            "Requirement already satisfied: matplotlib>=3.4 in /usr/local/lib/python3.9/dist-packages (from scanpy) (3.7.1)\n",
            "Requirement already satisfied: tqdm in /usr/local/lib/python3.9/dist-packages (from scanpy) (4.65.0)\n",
            "Requirement already satisfied: patsy in /usr/local/lib/python3.9/dist-packages (from scanpy) (0.5.3)\n",
            "Requirement already satisfied: natsort in /usr/local/lib/python3.9/dist-packages (from scanpy) (8.3.1)\n",
            "Requirement already satisfied: session-info in /usr/local/lib/python3.9/dist-packages (from scanpy) (1.0.0)\n",
            "Requirement already satisfied: networkx>=2.3 in /usr/local/lib/python3.9/dist-packages (from scanpy) (3.1)\n",
            "Requirement already satisfied: joblib in /usr/local/lib/python3.9/dist-packages (from scanpy) (1.2.0)\n",
            "Requirement already satisfied: scikit-learn>=0.22 in /usr/local/lib/python3.9/dist-packages (from scanpy) (1.2.2)\n",
            "Requirement already satisfied: numpy>=1.17.0 in /usr/local/lib/python3.9/dist-packages (from scanpy) (1.22.4)\n",
            "Requirement already satisfied: packaging in /usr/local/lib/python3.9/dist-packages (from scanpy) (23.0)\n",
            "Requirement already satisfied: statsmodels>=0.10.0rc2 in /usr/local/lib/python3.9/dist-packages (from scanpy) (0.13.5)\n",
            "Requirement already satisfied: pandas>=1.0 in /usr/local/lib/python3.9/dist-packages (from scanpy) (1.5.3)\n",
            "Requirement already satisfied: scipy>=1.4 in /usr/local/lib/python3.9/dist-packages (from scanpy) (1.10.1)\n",
            "Requirement already satisfied: umap-learn>=0.3.10 in /usr/local/lib/python3.9/dist-packages (from scanpy) (0.5.3)\n",
            "Requirement already satisfied: numba>=0.41.0 in /usr/local/lib/python3.9/dist-packages (from scanpy) (0.56.4)\n",
            "Requirement already satisfied: pillow>=6.2.0 in /usr/local/lib/python3.9/dist-packages (from matplotlib>=3.4->scanpy) (8.4.0)\n",
            "Requirement already satisfied: fonttools>=4.22.0 in /usr/local/lib/python3.9/dist-packages (from matplotlib>=3.4->scanpy) (4.39.3)\n",
            "Requirement already satisfied: pyparsing>=2.3.1 in /usr/local/lib/python3.9/dist-packages (from matplotlib>=3.4->scanpy) (3.0.9)\n",
            "Requirement already satisfied: kiwisolver>=1.0.1 in /usr/local/lib/python3.9/dist-packages (from matplotlib>=3.4->scanpy) (1.4.4)\n",
            "Requirement already satisfied: contourpy>=1.0.1 in /usr/local/lib/python3.9/dist-packages (from matplotlib>=3.4->scanpy) (1.0.7)\n",
            "Requirement already satisfied: python-dateutil>=2.7 in /usr/local/lib/python3.9/dist-packages (from matplotlib>=3.4->scanpy) (2.8.2)\n",
            "Requirement already satisfied: cycler>=0.10 in /usr/local/lib/python3.9/dist-packages (from matplotlib>=3.4->scanpy) (0.11.0)\n",
            "Requirement already satisfied: importlib-resources>=3.2.0 in /usr/local/lib/python3.9/dist-packages (from matplotlib>=3.4->scanpy) (5.12.0)\n",
            "Requirement already satisfied: llvmlite<0.40,>=0.39.0dev0 in /usr/local/lib/python3.9/dist-packages (from numba>=0.41.0->scanpy) (0.39.1)\n",
            "Requirement already satisfied: setuptools in /usr/local/lib/python3.9/dist-packages (from numba>=0.41.0->scanpy) (67.6.1)\n",
            "Requirement already satisfied: pytz>=2020.1 in /usr/local/lib/python3.9/dist-packages (from pandas>=1.0->scanpy) (2022.7.1)\n",
            "Requirement already satisfied: threadpoolctl>=2.0.0 in /usr/local/lib/python3.9/dist-packages (from scikit-learn>=0.22->scanpy) (3.1.0)\n",
            "Requirement already satisfied: six in /usr/local/lib/python3.9/dist-packages (from patsy->scanpy) (1.16.0)\n",
            "Requirement already satisfied: pynndescent>=0.5 in /usr/local/lib/python3.9/dist-packages (from umap-learn>=0.3.10->scanpy) (0.5.9)\n",
            "Requirement already satisfied: stdlib-list in /usr/local/lib/python3.9/dist-packages (from session-info->scanpy) (0.8.0)\n",
            "Requirement already satisfied: zipp>=3.1.0 in /usr/local/lib/python3.9/dist-packages (from importlib-resources>=3.2.0->matplotlib>=3.4->scanpy) (3.15.0)\n"
          ]
        }
      ],
      "source": [
        "# Import your modules!\n",
        "\n",
        "!pip install scanpy\n",
        "import scanpy as sc\n",
        "import pandas as pd\n",
        "import matplotlib.pyplot as plt\n",
        "import seaborn as sns"
      ]
    },
    {
      "cell_type": "code",
      "source": [
        "sc.logging.print_versions()\n",
        "sc.set_figure_params(facecolor=\"white\", figsize=(8, 8))\n",
        "sc.settings.verbosity = 3"
      ],
      "metadata": {
        "id": "K7u_nhQpGYtM",
        "outputId": "caeb0a27-db02-4ad0-ba71-ea5db9588bb9",
        "colab": {
          "base_uri": "https://localhost:8080/"
        }
      },
      "execution_count": 44,
      "outputs": [
        {
          "output_type": "stream",
          "name": "stdout",
          "text": [
            "-----\n",
            "anndata     0.9.1\n",
            "scanpy      1.9.3\n",
            "-----\n",
            "PIL                                         8.4.0\n",
            "aa8f2297d25b4dc6fd3d98411eb3ba53823c4f42    NA\n",
            "absl                                        NA\n",
            "astunparse                                  1.6.3\n",
            "attr                                        22.2.0\n",
            "backcall                                    0.2.0\n",
            "cachetools                                  5.3.0\n",
            "certifi                                     2022.12.07\n",
            "cffi                                        1.15.1\n",
            "chardet                                     4.0.0\n",
            "charset_normalizer                          2.0.12\n",
            "cloudpickle                                 2.2.1\n",
            "cryptography                                40.0.1\n",
            "cycler                                      0.10.0\n",
            "cython_runtime                              NA\n",
            "dask                                        2022.12.1\n",
            "dateutil                                    2.8.2\n",
            "debugpy                                     1.6.6\n",
            "decorator                                   4.4.2\n",
            "defusedxml                                  0.7.1\n",
            "dot_parser                                  NA\n",
            "etils                                       1.2.0\n",
            "flatbuffers                                 23.3.3\n",
            "fsspec                                      2023.4.0\n",
            "gast                                        NA\n",
            "google                                      NA\n",
            "google_auth_httplib2                        NA\n",
            "googleapiclient                             NA\n",
            "h5py                                        3.8.0\n",
            "httplib2                                    0.21.0\n",
            "idna                                        3.4\n",
            "igraph                                      0.10.4\n",
            "importlib_resources                         NA\n",
            "ipykernel                                   5.5.6\n",
            "ipython_genutils                            0.2.0\n",
            "ipywidgets                                  7.7.1\n",
            "jax                                         0.4.8\n",
            "jaxlib                                      0.4.7\n",
            "jinja2                                      3.1.2\n",
            "joblib                                      1.2.0\n",
            "keras                                       2.12.0\n",
            "kiwisolver                                  1.4.4\n",
            "leidenalg                                   0.9.1\n",
            "llvmlite                                    0.39.1\n",
            "markupsafe                                  2.1.2\n",
            "matplotlib                                  3.7.1\n",
            "matplotlib_inline                           0.1.6\n",
            "ml_dtypes                                   0.0.4\n",
            "mpl_toolkits                                NA\n",
            "mpmath                                      1.3.0\n",
            "natsort                                     8.3.1\n",
            "numba                                       0.56.4\n",
            "numexpr                                     2.8.4\n",
            "numpy                                       1.22.4\n",
            "nvfuser                                     NA\n",
            "oauth2client                                4.1.3\n",
            "opt_einsum                                  v3.3.0\n",
            "packaging                                   23.0\n",
            "pandas                                      1.5.3\n",
            "pexpect                                     4.8.0\n",
            "pickleshare                                 0.7.5\n",
            "pkg_resources                               NA\n",
            "platformdirs                                3.2.0\n",
            "plotly                                      5.13.1\n",
            "portpicker                                  NA\n",
            "prompt_toolkit                              3.0.38\n",
            "psutil                                      5.9.4\n",
            "ptyprocess                                  0.7.0\n",
            "pyarrow                                     9.0.0\n",
            "pyasn1                                      0.4.8\n",
            "pyasn1_modules                              0.2.8\n",
            "pycparser                                   2.21\n",
            "pydev_ipython                               NA\n",
            "pydevconsole                                NA\n",
            "pydevd                                      2.9.5\n",
            "pydevd_file_utils                           NA\n",
            "pydevd_plugins                              NA\n",
            "pydevd_tracing                              NA\n",
            "pydot                                       1.4.2\n",
            "pydot_ng                                    2.0.0\n",
            "pygments                                    2.14.0\n",
            "pynndescent                                 0.5.9\n",
            "pyparsing                                   3.0.9\n",
            "pytz                                        2022.7.1\n",
            "requests                                    2.27.1\n",
            "rich                                        NA\n",
            "rsa                                         4.9\n",
            "scipy                                       1.10.1\n",
            "seaborn                                     0.12.2\n",
            "session_info                                1.0.0\n",
            "sitecustomize                               NA\n",
            "six                                         1.16.0\n",
            "sklearn                                     1.2.2\n",
            "socks                                       1.7.1\n",
            "sphinxcontrib                               NA\n",
            "statsmodels                                 0.13.5\n",
            "storemagic                                  NA\n",
            "sympy                                       1.11.1\n",
            "tblib                                       1.7.0\n",
            "tensorboard                                 2.12.1\n",
            "tensorflow                                  2.12.0\n",
            "tensorflow_probability                      0.19.0\n",
            "termcolor                                   NA\n",
            "texttable                                   1.6.7\n",
            "threadpoolctl                               3.1.0\n",
            "tlz                                         0.12.0\n",
            "toolz                                       0.12.0\n",
            "torch                                       2.0.0+cu118\n",
            "tornado                                     6.2\n",
            "tqdm                                        4.65.0\n",
            "traitlets                                   5.7.1\n",
            "tree                                        0.1.8\n",
            "typing_extensions                           NA\n",
            "umap                                        0.5.3\n",
            "uritemplate                                 4.1.1\n",
            "urllib3                                     1.26.15\n",
            "wcwidth                                     0.2.6\n",
            "wrapt                                       1.14.1\n",
            "yaml                                        6.0\n",
            "zipp                                        NA\n",
            "zmq                                         23.2.1\n",
            "zoneinfo                                    NA\n",
            "-----\n",
            "IPython             7.34.0\n",
            "jupyter_client      6.1.12\n",
            "jupyter_core        5.3.0\n",
            "notebook            6.4.8\n",
            "-----\n",
            "Python 3.9.16 (main, Dec  7 2022, 01:11:51) [GCC 9.4.0]\n",
            "Linux-5.10.147+-x86_64-with-glibc2.31\n",
            "-----\n",
            "Session information updated at 2023-04-19 16:15\n"
          ]
        }
      ]
    },
    {
      "cell_type": "markdown",
      "source": [
        "The function `datasets.visium_sge()` downloads the dataset from 10x Genomics and returns an `AnnData `object that contains counts, images and spatial coordinates. We will calculate standard QC metrics with `pp.calculate_qc_metrics` and percentage of mitochondrial read counts per sample."
      ],
      "metadata": {
        "id": "UgpaktlCVDBF"
      }
    },
    {
      "cell_type": "code",
      "source": [
        "adata = sc.datasets.visium_sge(sample_id=\"V1_Human_Brain_Section_1\")\n",
        "adata.var_names_make_unique()\n",
        "adata.var[\"mt\"] = adata.var_names.str.startswith(\"MT-\")\n",
        "sc.pp.calculate_qc_metrics(adata, qc_vars=[\"mt\"], inplace=True)"
      ],
      "metadata": {
        "id": "7AkQIyZgGdpk",
        "outputId": "38b4b390-e550-4a57-f1b0-51508b37a4f4",
        "colab": {
          "base_uri": "https://localhost:8080/"
        }
      },
      "execution_count": 45,
      "outputs": [
        {
          "output_type": "stream",
          "name": "stdout",
          "text": [
            "reading /content/data/V1_Human_Brain_Section_1/filtered_feature_bc_matrix.h5\n",
            " (0:00:00)\n"
          ]
        },
        {
          "output_type": "stream",
          "name": "stderr",
          "text": [
            "/usr/local/lib/python3.9/dist-packages/anndata/_core/anndata.py:1832: UserWarning: Variable names are not unique. To make them unique, call `.var_names_make_unique`.\n",
            "  utils.warn_names_duplicates(\"var\")\n"
          ]
        }
      ]
    },
    {
      "cell_type": "markdown",
      "source": [
        "We should perform some basic filtering of spots (dots on the brain slice) based on total counts and expressed genes."
      ],
      "metadata": {
        "id": "GVAdOzpvVPpJ"
      }
    },
    {
      "cell_type": "code",
      "source": [
        "fig, axs = plt.subplots(1, 4, figsize=(15, 4))\n",
        "sns.distplot(adata.obs[\"total_counts\"], kde=False, ax=axs[0])\n",
        "sns.distplot(adata.obs[\"total_counts\"][adata.obs[\"total_counts\"] < 10000], kde=False, bins=40, ax=axs[1])\n",
        "sns.distplot(adata.obs[\"n_genes_by_counts\"], kde=False, bins=60, ax=axs[2])\n",
        "sns.distplot(adata.obs[\"n_genes_by_counts\"][adata.obs[\"n_genes_by_counts\"] < 4000], kde=False, bins=60, ax=axs[3])"
      ],
      "metadata": {
        "id": "AN2Kh8sqGlvi",
        "outputId": "91171f63-6712-4e01-d8d9-9f24df73a06b",
        "colab": {
          "base_uri": "https://localhost:8080/",
          "height": 1000
        }
      },
      "execution_count": 46,
      "outputs": [
        {
          "output_type": "stream",
          "name": "stderr",
          "text": [
            "<ipython-input-46-157c5202e826>:2: UserWarning: \n",
            "\n",
            "`distplot` is a deprecated function and will be removed in seaborn v0.14.0.\n",
            "\n",
            "Please adapt your code to use either `displot` (a figure-level function with\n",
            "similar flexibility) or `histplot` (an axes-level function for histograms).\n",
            "\n",
            "For a guide to updating your code to use the new functions, please see\n",
            "https://gist.github.com/mwaskom/de44147ed2974457ad6372750bbe5751\n",
            "\n",
            "  sns.distplot(adata.obs[\"total_counts\"], kde=False, ax=axs[0])\n",
            "<ipython-input-46-157c5202e826>:3: UserWarning: \n",
            "\n",
            "`distplot` is a deprecated function and will be removed in seaborn v0.14.0.\n",
            "\n",
            "Please adapt your code to use either `displot` (a figure-level function with\n",
            "similar flexibility) or `histplot` (an axes-level function for histograms).\n",
            "\n",
            "For a guide to updating your code to use the new functions, please see\n",
            "https://gist.github.com/mwaskom/de44147ed2974457ad6372750bbe5751\n",
            "\n",
            "  sns.distplot(adata.obs[\"total_counts\"][adata.obs[\"total_counts\"] < 10000], kde=False, bins=40, ax=axs[1])\n",
            "<ipython-input-46-157c5202e826>:4: UserWarning: \n",
            "\n",
            "`distplot` is a deprecated function and will be removed in seaborn v0.14.0.\n",
            "\n",
            "Please adapt your code to use either `displot` (a figure-level function with\n",
            "similar flexibility) or `histplot` (an axes-level function for histograms).\n",
            "\n",
            "For a guide to updating your code to use the new functions, please see\n",
            "https://gist.github.com/mwaskom/de44147ed2974457ad6372750bbe5751\n",
            "\n",
            "  sns.distplot(adata.obs[\"n_genes_by_counts\"], kde=False, bins=60, ax=axs[2])\n",
            "<ipython-input-46-157c5202e826>:5: UserWarning: \n",
            "\n",
            "`distplot` is a deprecated function and will be removed in seaborn v0.14.0.\n",
            "\n",
            "Please adapt your code to use either `displot` (a figure-level function with\n",
            "similar flexibility) or `histplot` (an axes-level function for histograms).\n",
            "\n",
            "For a guide to updating your code to use the new functions, please see\n",
            "https://gist.github.com/mwaskom/de44147ed2974457ad6372750bbe5751\n",
            "\n",
            "  sns.distplot(adata.obs[\"n_genes_by_counts\"][adata.obs[\"n_genes_by_counts\"] < 4000], kde=False, bins=60, ax=axs[3])\n"
          ]
        },
        {
          "output_type": "execute_result",
          "data": {
            "text/plain": [
              "<Axes: xlabel='n_genes_by_counts'>"
            ]
          },
          "metadata": {},
          "execution_count": 46
        },
        {
          "output_type": "display_data",
          "data": {
            "text/plain": [
              "<Figure size 1200x320 with 4 Axes>"
            ],
            "image/png": "[encoded data removed]"
          },
          "metadata": {
            "image/png": {
              "width": 1000,
              "height": 305
            }
          }
        }
      ]
    },
    {
      "cell_type": "markdown",
      "source": [
        "2nd graph: some dts that have 0 counts, but most of data lies between 1000-2000 counts\n"
      ],
      "metadata": {
        "id": "Dx-X94xFIriq"
      }
    },
    {
      "cell_type": "markdown",
      "source": [
        "We'll use our histograms to apply some cutoffs to get rid of cells with abnormally low/large levels of gene expression."
      ],
      "metadata": {
        "id": "zn_fqo9_VU7K"
      }
    },
    {
      "cell_type": "code",
      "source": [
        "#Gets rid of outliers\n",
        "\n",
        "sc.pp.filter_cells(adata, min_counts=500)\n",
        "sc.pp.filter_cells(adata, max_counts=20000)\n",
        "adata = adata[adata.obs[\"pct_counts_mt\"] < 20]\n",
        "print(f\"#cells after MT filter: {adata.n_obs}\")\n",
        "sc.pp.filter_genes(adata, min_cells=10)"
      ],
      "metadata": {
        "id": "GgIw4aVmG_th",
        "outputId": "ae2a1aaf-da08-47a5-c967-1a88e9847388",
        "colab": {
          "base_uri": "https://localhost:8080/"
        }
      },
      "execution_count": 47,
      "outputs": [
        {
          "output_type": "stream",
          "name": "stdout",
          "text": [
            "filtered out 7 cells that have less than 500 counts\n",
            "filtered out 13 cells that have more than 20000 counts\n",
            "#cells after MT filter: 4027\n",
            "filtered out 18134 genes that are detected in less than 10 cells\n"
          ]
        },
        {
          "output_type": "stream",
          "name": "stderr",
          "text": [
            "/usr/local/lib/python3.9/dist-packages/scanpy/preprocessing/_simple.py:251: ImplicitModificationWarning: Trying to modify attribute `.var` of view, initializing view as actual.\n",
            "  adata.var['n_cells'] = number\n"
          ]
        }
      ]
    },
    {
      "cell_type": "markdown",
      "source": [
        "We proceed to normalize Visium counts data with the built-in `normalize_total` method from `Scanpy`, and detect highly-variable genes (for later)."
      ],
      "metadata": {
        "id": "uptaxIOzVi1C"
      }
    },
    {
      "cell_type": "code",
      "source": [
        "sc.pp.normalize_total(adata, inplace=True)\n",
        "sc.pp.log1p(adata)\n",
        "sc.pp.highly_variable_genes(adata, flavor=\"seurat\", n_top_genes=2000)"
      ],
      "metadata": {
        "id": "ieWke5TkHaxm",
        "outputId": "0e0b7483-1a91-4a8c-8913-d6e0eaa27dbd",
        "colab": {
          "base_uri": "https://localhost:8080/"
        }
      },
      "execution_count": 48,
      "outputs": [
        {
          "output_type": "stream",
          "name": "stdout",
          "text": [
            "normalizing counts per cell\n",
            "    finished (0:00:00)\n",
            "If you pass `n_top_genes`, all cutoffs are ignored.\n",
            "extracting highly variable genes\n",
            "    finished (0:00:00)\n",
            "--> added\n",
            "    'highly_variable', boolean vector (adata.var)\n",
            "    'means', float vector (adata.var)\n",
            "    'dispersions', float vector (adata.var)\n",
            "    'dispersions_norm', float vector (adata.var)\n"
          ]
        }
      ]
    },
    {
      "cell_type": "markdown",
      "source": [
        "##Clustering Gene Sets\n",
        "\n",
        "To embed and cluster the manifold encoded by transcriptional similarity, we proceed as in the last notebook by making UMAP plots, and attempting to create clusters in state space based on common patterns of gene expression:"
      ],
      "metadata": {
        "id": "VJ85rKiuVowt"
      }
    },
    {
      "cell_type": "code",
      "source": [
        "!pip install leidenalg\n",
        "sc.pp.pca(adata)\n",
        "sc.pp.neighbors(adata)\n",
        "sc.tl.umap(adata)\n",
        "sc.tl.leiden(adata, key_added=\"clusters\")"
      ],
      "metadata": {
        "id": "GQSOPgTWHdz2",
        "outputId": "b6404b93-ff17-49eb-d8fd-554eeae5a205",
        "colab": {
          "base_uri": "https://localhost:8080/"
        }
      },
      "execution_count": null,
      "outputs": [
        {
          "output_type": "stream",
          "name": "stdout",
          "text": [
            "Looking in indexes: https://pypi.org/simple, https://us-python.pkg.dev/colab-wheels/public/simple/\n",
            "Requirement already satisfied: leidenalg in /usr/local/lib/python3.9/dist-packages (0.9.1)\n",
            "Requirement already satisfied: igraph<0.11,>=0.10.0 in /usr/local/lib/python3.9/dist-packages (from leidenalg) (0.10.4)\n",
            "Requirement already satisfied: texttable>=1.6.2 in /usr/local/lib/python3.9/dist-packages (from igraph<0.11,>=0.10.0->leidenalg) (1.6.7)\n",
            "computing PCA\n",
            "    on highly variable genes\n",
            "    with n_comps=50\n"
          ]
        }
      ]
    },
    {
      "cell_type": "code",
      "source": [
        "plt.rcParams[\"figure.figsize\"] = (4, 4)\n",
        "sc.pl.umap(adata, color=[\"total_counts\", \"n_genes_by_counts\", \"clusters\"], wspace=0.4)"
      ],
      "metadata": {
        "id": "xiFQjHh6HzFj"
      },
      "execution_count": null,
      "outputs": []
    },
    {
      "cell_type": "markdown",
      "source": [
        "##Visualization in Spatial Coordinates\n",
        "\n",
        "Let's now try and map the clusters we came up with back onto the original slice of the human brain:"
      ],
      "metadata": {
        "id": "2vwXBHbAV8j4"
      }
    },
    {
      "cell_type": "code",
      "source": [
        "plt.rcParams[\"figure.figsize\"] = (8, 8)\n",
        "sc.pl.spatial(adata, img_key=\"hires\", color=[\"total_counts\", \"n_genes_by_counts\"])"
      ],
      "metadata": {
        "id": "CrxeYDILH96z"
      },
      "execution_count": null,
      "outputs": []
    },
    {
      "cell_type": "markdown",
      "source": [
        "Before, we performed clustering in gene expression space, and visualized the results with UMAP. By visualizing clustered samples in spatial dimensions, we can gain insights into tissue organization and, potentially, into inter-cellular communication."
      ],
      "metadata": {
        "id": "joT_59D6WIf-"
      }
    },
    {
      "cell_type": "code",
      "source": [
        "sc.pl.spatial(adata, img_key=\"hires\", color=\"clusters\", size=1.5)"
      ],
      "metadata": {
        "id": "xWIhkr2rIIy4"
      },
      "execution_count": null,
      "outputs": []
    },
    {
      "cell_type": "markdown",
      "source": [
        "organization: each cluster shares a pattern of common gene expression. mapped like it is in layers\n",
        "the way these cells organize into differnet layers, they make synaptic content of areas downstream of them\n"
      ],
      "metadata": {
        "id": "K5IOkeThLdTo"
      }
    },
    {
      "cell_type": "markdown",
      "source": [
        "##Cluster Marker Genes\n",
        "\n",
        "Let us further inspect cluster 5, which occurs along the middle of the image. We can pull out the marker genes for this cluster:"
      ],
      "metadata": {
        "id": "dMnNBlqBWMYa"
      }
    },
    {
      "cell_type": "code",
      "source": [
        "sc.tl.rank_genes_groups(adata, \"clusters\", method=\"t-test\")\n",
        "sc.pl.rank_genes_groups_heatmap(adata, groups=\"5\", n_genes=10, groupby=\"clusters\")"
      ],
      "metadata": {
        "id": "Q5rWJBBiJBkA"
      },
      "execution_count": null,
      "outputs": []
    },
    {
      "cell_type": "markdown",
      "source": [
        "top marker gene for cluster: FOS\n",
        "gradient: gene expression\n",
        "so a good marker gene would have more yellow color in one cluster andblue in other clusters "
      ],
      "metadata": {
        "id": "_2PqD9O7MQVt"
      }
    },
    {
      "cell_type": "markdown",
      "source": [
        "And plot the top marker gene ('FOS') to see if its spatial expression pattern recapitulates the cluster's expression pattern:"
      ],
      "metadata": {
        "id": "jGrNaK-IWfOa"
      }
    },
    {
      "cell_type": "code",
      "source": [
        "sc.pl.spatial(adata, img_key=\"hires\", color=[\"clusters\", \"FOS\"])"
      ],
      "metadata": {
        "id": "ytfRQgnIJLIe"
      },
      "execution_count": null,
      "outputs": []
    },
    {
      "cell_type": "markdown",
      "source": [
        "When you plot FOS, its a good marker gene bc it has good overlap between images. the yellow cluster is singularily plotted with with blue around it \n"
      ],
      "metadata": {
        "id": "6aYEC_nBMl91"
      }
    },
    {
      "cell_type": "markdown",
      "source": [
        "><b>Task:</b> Try all of this with \"V1_Human_Brain_Section_2\". Do you get different clusters? Try pulling out the top expressed genes for a couple of clusters - are they the same as in the first brain slice? Do you think that genetically-distinct neurons in the human brain are spatially organized? "
      ],
      "metadata": {
        "id": "CcbuFhE1WqKa"
      }
    },
    {
      "cell_type": "markdown",
      "source": [
        "><b>Task:</b> Try the same thing with a section of the mouse brain - you can try \"V1_Adult_Mouse_Brain_Coronal_Section_1\", or \"V1_Adult_Mouse_Brain_Coronal_Section_2\". "
      ],
      "metadata": {
        "id": "5XMwMzKLXDru"
      }
    },
    {
      "cell_type": "code",
      "source": [
        "#Trying w section 2\n",
        "adata = sc.datasets.visium_sge(sample_id=\"V1_Adult_Mouse_Brain_Coronal_Section_1\")\n",
        "adata.var_names_make_unique()\n",
        "adata.var[\"mt\"] = adata.var_names.str.startswith(\"MT-\")\n",
        "sc.pp.calculate_qc_metrics(adata, qc_vars=[\"mt\"], inplace=True)"
      ],
      "metadata": {
        "id": "778cNtcwNEgZ"
      },
      "execution_count": null,
      "outputs": []
    },
    {
      "cell_type": "code",
      "source": [
        "fig, axs = plt.subplots(1, 4, figsize=(15, 4))\n",
        "sns.distplot(adata.obs[\"total_counts\"], kde=False, ax=axs[0])\n",
        "sns.distplot(adata.obs[\"total_counts\"][adata.obs[\"total_counts\"] < 10000], kde=False, bins=40, ax=axs[1])\n",
        "sns.distplot(adata.obs[\"n_genes_by_counts\"], kde=False, bins=60, ax=axs[2])\n",
        "sns.distplot(adata.obs[\"n_genes_by_counts\"][adata.obs[\"n_genes_by_counts\"] < 4000], kde=False, bins=60, ax=axs[3])"
      ],
      "metadata": {
        "id": "qtL4TmDRNKes"
      },
      "execution_count": null,
      "outputs": []
    },
    {
      "cell_type": "code",
      "source": [
        "\n",
        "sc.pp.filter_cells(adata, min_counts=500)\n",
        "sc.pp.filter_cells(adata, max_counts=20000)\n",
        "adata = adata[adata.obs[\"pct_counts_mt\"] < 20]\n",
        "print(f\"#cells after MT filter: {adata.n_obs}\")\n",
        "sc.pp.filter_genes(adata, min_cells=10)"
      ],
      "metadata": {
        "id": "OWrqgrk2NPqE"
      },
      "execution_count": null,
      "outputs": []
    },
    {
      "cell_type": "code",
      "source": [
        "sc.pp.normalize_total(adata, inplace=True)\n",
        "sc.pp.log1p(adata)\n",
        "sc.pp.highly_variable_genes(adata, flavor=\"seurat\", n_top_genes=2000)"
      ],
      "metadata": {
        "id": "ow3ZrsMnNS8o"
      },
      "execution_count": null,
      "outputs": []
    },
    {
      "cell_type": "code",
      "source": [
        "!pip install leidenalg\n",
        "sc.pp.pca(adata)\n",
        "sc.pp.neighbors(adata)\n",
        "sc.tl.umap(adata)\n",
        "sc.tl.leiden(adata, key_added=\"clusters\")"
      ],
      "metadata": {
        "id": "YMjFmZ_2NV-R"
      },
      "execution_count": null,
      "outputs": []
    },
    {
      "cell_type": "code",
      "source": [
        "plt.rcParams[\"figure.figsize\"] = (8, 8)\n",
        "sc.pl.spatial(adata, img_key=\"hires\", color=[\"total_counts\", \"n_genes_by_counts\"])"
      ],
      "metadata": {
        "id": "GFYFgwr4NbX6"
      },
      "execution_count": null,
      "outputs": []
    },
    {
      "cell_type": "code",
      "source": [
        "sc.tl.rank_genes_groups(adata, \"clusters\", method=\"t-test\")\n",
        "sc.pl.rank_genes_groups_heatmap(adata, groups=\"7\", n_genes=10, groupby=\"clusters\")"
      ],
      "metadata": {
        "id": "YjdPqLjCNxwY"
      },
      "execution_count": null,
      "outputs": []
    },
    {
      "cell_type": "code",
      "source": [
        "sc.pl.spatial(adata, img_key=\"hires\", color=[\"clusters\", Dynll1\"])"
      ],
      "metadata": {
        "id": "FpHHpK6BNz-i"
      },
      "execution_count": null,
      "outputs": []
    },
    {
      "cell_type": "markdown",
      "source": [
        "different cluster number but in the same place, "
      ],
      "metadata": {
        "id": "PpPjV3izOEzX"
      }
    },
    {
      "cell_type": "code",
      "source": [
        "little squiggle is the dentae gyrus and its highly expressed"
      ],
      "metadata": {
        "id": "wHK-C3woRrF0"
      },
      "execution_count": null,
      "outputs": []
    }
  ]
}